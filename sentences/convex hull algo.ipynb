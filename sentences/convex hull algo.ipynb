{
 "cells": [
  {
   "cell_type": "code",
   "execution_count": 1,
   "id": "7b4e9b50",
   "metadata": {
    "ExecuteTime": {
     "end_time": "2023-05-07T00:26:52.050246Z",
     "start_time": "2023-05-07T00:26:50.865710Z"
    }
   },
   "outputs": [],
   "source": [
    "from scipy.spatial import ConvexHull\n",
    "from sklearn.decomposition import PCA\n",
    "import pandas as pd\n",
    "from tqdm import tqdm\n",
    "import os"
   ]
  },
  {
   "cell_type": "code",
   "execution_count": 2,
   "id": "4bd2d544",
   "metadata": {
    "ExecuteTime": {
     "end_time": "2023-05-07T00:26:52.674478Z",
     "start_time": "2023-05-07T00:26:52.669765Z"
    }
   },
   "outputs": [],
   "source": [
    "def get_convex_hull_volume(sent_embeddings):\n",
    "    \n",
    "    lenOfpoints = len(sent_embeddings)\n",
    "    if lenOfpoints >= 9:\n",
    "        pca = PCA(n_components=8)\n",
    "    else :\n",
    "        numOfdim = lenOfpoints - 1\n",
    "        pca = PCA(n_components=numOfdim)\n",
    "    cluster_embs = pca.fit_transform(sent_embeddings)\n",
    "    hull = ConvexHull(cluster_embs)\n",
    "    return hull.volume\n",
    "\n"
   ]
  },
  {
   "cell_type": "code",
   "execution_count": 3,
   "id": "751a9d96",
   "metadata": {
    "ExecuteTime": {
     "end_time": "2023-05-07T00:27:51.660212Z",
     "start_time": "2023-05-07T00:27:51.654910Z"
    }
   },
   "outputs": [],
   "source": [
    "def get_float_senBERT_vector(vectorstrlist):\n",
    "    float_vectors = []\n",
    "    for item in vectorstrlist:\n",
    "        item = item.replace(\" \",\"\").replace(\"\\n\",\"\")\n",
    "        item = item.strip(\"(\").strip(\")\").strip(\"[\").strip(\"]\")\n",
    "        item = item.split(',')[0:384]\n",
    "        item[383] = item[383].strip(']')\n",
    "        item = [float(x) for x in item]\n",
    "        #print(item)\n",
    "        float_vectors.append(item)\n",
    "    return float_vectors"
   ]
  },
  {
   "cell_type": "code",
   "execution_count": 4,
   "id": "5221fe08",
   "metadata": {
    "ExecuteTime": {
     "end_time": "2023-05-07T00:28:00.960386Z",
     "start_time": "2023-05-07T00:27:53.578282Z"
    }
   },
   "outputs": [
    {
     "name": "stderr",
     "output_type": "stream",
     "text": [
      " 54%|█████████████████████▍                  | 257/480 [00:00<00:00, 533.09it/s]"
     ]
    },
    {
     "name": "stdout",
     "output_type": "stream",
     "text": [
      "146\n"
     ]
    },
    {
     "name": "stderr",
     "output_type": "stream",
     "text": [
      "100%|████████████████████████████████████████| 480/480 [00:01<00:00, 440.53it/s]\n"
     ]
    },
    {
     "name": "stdout",
     "output_type": "stream",
     "text": [
      "398\n",
      "476\n"
     ]
    },
    {
     "name": "stderr",
     "output_type": "stream",
     "text": [
      " 47%|██████████████████▊                     | 225/480 [00:00<00:00, 577.76it/s]"
     ]
    },
    {
     "name": "stdout",
     "output_type": "stream",
     "text": [
      "146\n"
     ]
    },
    {
     "name": "stderr",
     "output_type": "stream",
     "text": [
      "100%|████████████████████████████████████████| 480/480 [00:01<00:00, 473.60it/s]\n"
     ]
    },
    {
     "name": "stdout",
     "output_type": "stream",
     "text": [
      "398\n",
      "476\n"
     ]
    },
    {
     "name": "stderr",
     "output_type": "stream",
     "text": [
      " 45%|██████████████████                      | 216/480 [00:00<00:00, 537.46it/s]"
     ]
    },
    {
     "name": "stdout",
     "output_type": "stream",
     "text": [
      "146\n"
     ]
    },
    {
     "name": "stderr",
     "output_type": "stream",
     "text": [
      "100%|████████████████████████████████████████| 480/480 [00:01<00:00, 441.70it/s]\n"
     ]
    },
    {
     "name": "stdout",
     "output_type": "stream",
     "text": [
      "398\n",
      "476\n"
     ]
    },
    {
     "name": "stderr",
     "output_type": "stream",
     "text": [
      "100%|████████████████████████████████████████| 480/480 [00:00<00:00, 613.40it/s]\n",
      "100%|████████████████████████████████████████| 480/480 [00:00<00:00, 499.11it/s]\n"
     ]
    },
    {
     "name": "stdout",
     "output_type": "stream",
     "text": [
      "398\n"
     ]
    },
    {
     "name": "stderr",
     "output_type": "stream",
     "text": [
      " 44%|█████████████████▍                      | 209/480 [00:00<00:00, 525.44it/s]"
     ]
    },
    {
     "name": "stdout",
     "output_type": "stream",
     "text": [
      "146\n"
     ]
    },
    {
     "name": "stderr",
     "output_type": "stream",
     "text": [
      "100%|████████████████████████████████████████| 480/480 [00:01<00:00, 441.81it/s]"
     ]
    },
    {
     "name": "stdout",
     "output_type": "stream",
     "text": [
      "476\n"
     ]
    },
    {
     "name": "stderr",
     "output_type": "stream",
     "text": [
      "\n"
     ]
    }
   ],
   "source": [
    "df = pd.read_csv('/Users/carina/Downloads/courses/final thesis/precessed data/ex3/senvec_senBERT.csv')\n",
    "df = df.drop(df.columns[0],axis=1)\n",
    "heads = df.columns.values.tolist()\n",
    "\n",
    "all_volume = pd.DataFrame()\n",
    "for head in heads:\n",
    "    allvectors = df[head].tolist()\n",
    "    length = len(allvectors)\n",
    "\n",
    "    volumes = []\n",
    "    for i in tqdm(range(length)):\n",
    "        vectors = allvectors[i]\n",
    "        vectors = vectors.strip(\"[\").strip(\"]\").split('array')\n",
    "        vectors = [x for x in vectors if len(x) != 0]\n",
    "        vectors = get_float_senBERT_vector(vectors)\n",
    "\n",
    "        try :\n",
    "            volume = get_convex_hull_volume(vectors)\n",
    "        except :\n",
    "            volume = 0.0\n",
    "            print(i)\n",
    "        volumes.append(volume)\n",
    "\n",
    "    all_volume[head] = volumes"
   ]
  },
  {
   "cell_type": "code",
   "execution_count": 6,
   "id": "89fa6f02",
   "metadata": {
    "ExecuteTime": {
     "end_time": "2023-05-07T00:29:42.461483Z",
     "start_time": "2023-05-07T00:29:42.448418Z"
    }
   },
   "outputs": [],
   "source": [
    "all_volume.to_csv('/Users/carina/Downloads/courses/final thesis/precessed data/ex3/volume_senBERT.csv')"
   ]
  },
  {
   "cell_type": "code",
   "execution_count": 8,
   "id": "89626cd1",
   "metadata": {
    "ExecuteTime": {
     "end_time": "2023-05-07T00:31:07.143618Z",
     "start_time": "2023-05-07T00:31:07.138569Z"
    }
   },
   "outputs": [],
   "source": [
    "def get_floatvec_ALBERT(vecslist):\n",
    "    vecslist = vecslist.split('],')\n",
    "    float_vecs = []\n",
    "    for item in vecslist:\n",
    "        item = item.strip('[').strip(']').replace(' ','')\n",
    "        item = item.split(',')\n",
    "        single_values = []\n",
    "        for vecs in item:\n",
    "            vecs = vecs.strip('[')\n",
    "            single_values.append(vecs)\n",
    "        single_values = [float(x) for x in single_values]\n",
    "        float_vecs.append(single_values)\n",
    "    return float_vecs"
   ]
  },
  {
   "cell_type": "code",
   "execution_count": 9,
   "id": "91b10d28",
   "metadata": {
    "ExecuteTime": {
     "end_time": "2023-05-07T00:31:27.544445Z",
     "start_time": "2023-05-07T00:31:07.981738Z"
    }
   },
   "outputs": [
    {
     "name": "stderr",
     "output_type": "stream",
     "text": [
      " 37%|██████████████▉                         | 179/480 [00:00<00:01, 200.06it/s]"
     ]
    },
    {
     "name": "stdout",
     "output_type": "stream",
     "text": [
      "146\n"
     ]
    },
    {
     "name": "stderr",
     "output_type": "stream",
     "text": [
      " 87%|██████████████████████████████████▉     | 419/480 [00:02<00:00, 107.93it/s]"
     ]
    },
    {
     "name": "stdout",
     "output_type": "stream",
     "text": [
      "398\n"
     ]
    },
    {
     "name": "stderr",
     "output_type": "stream",
     "text": [
      "100%|████████████████████████████████████████| 480/480 [00:02<00:00, 167.09it/s]\n"
     ]
    },
    {
     "name": "stdout",
     "output_type": "stream",
     "text": [
      "476\n"
     ]
    },
    {
     "name": "stderr",
     "output_type": "stream",
     "text": [
      " 37%|██████████████▊                         | 177/480 [00:00<00:01, 196.97it/s]"
     ]
    },
    {
     "name": "stdout",
     "output_type": "stream",
     "text": [
      "146\n"
     ]
    },
    {
     "name": "stderr",
     "output_type": "stream",
     "text": [
      " 87%|██████████████████████████████████▋     | 416/480 [00:02<00:00, 104.06it/s]"
     ]
    },
    {
     "name": "stdout",
     "output_type": "stream",
     "text": [
      "398\n"
     ]
    },
    {
     "name": "stderr",
     "output_type": "stream",
     "text": [
      "100%|████████████████████████████████████████| 480/480 [00:02<00:00, 164.09it/s]\n"
     ]
    },
    {
     "name": "stdout",
     "output_type": "stream",
     "text": [
      "476\n"
     ]
    },
    {
     "name": "stderr",
     "output_type": "stream",
     "text": [
      " 35%|██████████████                          | 168/480 [00:00<00:01, 179.76it/s]"
     ]
    },
    {
     "name": "stdout",
     "output_type": "stream",
     "text": [
      "146\n"
     ]
    },
    {
     "name": "stderr",
     "output_type": "stream",
     "text": [
      " 86%|███████████████████████████████████▍     | 415/480 [00:02<00:00, 97.78it/s]"
     ]
    },
    {
     "name": "stdout",
     "output_type": "stream",
     "text": [
      "398\n"
     ]
    },
    {
     "name": "stderr",
     "output_type": "stream",
     "text": [
      "100%|████████████████████████████████████████| 480/480 [00:03<00:00, 155.91it/s]\n"
     ]
    },
    {
     "name": "stdout",
     "output_type": "stream",
     "text": [
      "476\n"
     ]
    },
    {
     "name": "stderr",
     "output_type": "stream",
     "text": [
      "100%|████████████████████████████████████████| 480/480 [00:01<00:00, 245.22it/s]\n",
      " 90%|███████████████████████████████████▊    | 430/480 [00:02<00:00, 144.71it/s]"
     ]
    },
    {
     "name": "stdout",
     "output_type": "stream",
     "text": [
      "398\n"
     ]
    },
    {
     "name": "stderr",
     "output_type": "stream",
     "text": [
      "100%|████████████████████████████████████████| 480/480 [00:02<00:00, 183.73it/s]\n",
      " 35%|██████████████▏                         | 170/480 [00:00<00:01, 180.00it/s]"
     ]
    },
    {
     "name": "stdout",
     "output_type": "stream",
     "text": [
      "146\n"
     ]
    },
    {
     "name": "stderr",
     "output_type": "stream",
     "text": [
      "100%|████████████████████████████████████████| 480/480 [00:03<00:00, 149.44it/s]"
     ]
    },
    {
     "name": "stdout",
     "output_type": "stream",
     "text": [
      "476\n"
     ]
    },
    {
     "name": "stderr",
     "output_type": "stream",
     "text": [
      "\n"
     ]
    }
   ],
   "source": [
    "df = pd.read_csv('/Users/carina/Downloads/courses/final thesis/precessed data/ex3/senvec_ALBERT.csv')\n",
    "df = df.drop(df.columns[0],axis=1)\n",
    "heads = df.columns.values.tolist()\n",
    "\n",
    "all_volume = pd.DataFrame()\n",
    "for head in heads:\n",
    "    allvectors = df[head].tolist()\n",
    "    length = len(allvectors)\n",
    "\n",
    "    volumes = []\n",
    "    for i in tqdm(range(length)):\n",
    "        vectors = allvectors[i]\n",
    "        #vectors = vectors.strip(\"[\").strip(\"]\").split('array')\n",
    "        #vectors = [x for x in vectors if len(x) != 0]\n",
    "        vectors = get_floatvec_ALBERT(vectors)\n",
    "\n",
    "        try :\n",
    "            volume = get_convex_hull_volume(vectors)\n",
    "        except :\n",
    "            volume = 0.0\n",
    "            print(i)\n",
    "        volumes.append(volume)\n",
    "\n",
    "    all_volume[head] = volumes"
   ]
  },
  {
   "cell_type": "code",
   "execution_count": 10,
   "id": "714afc91",
   "metadata": {
    "ExecuteTime": {
     "end_time": "2023-05-07T00:31:46.765833Z",
     "start_time": "2023-05-07T00:31:46.754385Z"
    }
   },
   "outputs": [],
   "source": [
    "all_volume.to_csv('/Users/carina/Downloads/courses/final thesis/precessed data/ex3/volume_ALBERT.csv')"
   ]
  },
  {
   "cell_type": "code",
   "execution_count": null,
   "id": "c21bb534",
   "metadata": {},
   "outputs": [],
   "source": []
  }
 ],
 "metadata": {
  "kernelspec": {
   "display_name": "Python 3 (ipykernel)",
   "language": "python",
   "name": "python3"
  },
  "language_info": {
   "codemirror_mode": {
    "name": "ipython",
    "version": 3
   },
   "file_extension": ".py",
   "mimetype": "text/x-python",
   "name": "python",
   "nbconvert_exporter": "python",
   "pygments_lexer": "ipython3",
   "version": "3.8.3"
  },
  "toc": {
   "base_numbering": 1,
   "nav_menu": {},
   "number_sections": true,
   "sideBar": true,
   "skip_h1_title": false,
   "title_cell": "Table of Contents",
   "title_sidebar": "Contents",
   "toc_cell": false,
   "toc_position": {},
   "toc_section_display": true,
   "toc_window_display": false
  }
 },
 "nbformat": 4,
 "nbformat_minor": 5
}
