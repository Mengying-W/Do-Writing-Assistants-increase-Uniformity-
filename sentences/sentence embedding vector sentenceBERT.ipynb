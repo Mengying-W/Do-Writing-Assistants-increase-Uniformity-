{
 "cells": [
  {
   "cell_type": "code",
   "execution_count": 1,
   "id": "91297c24",
   "metadata": {
    "ExecuteTime": {
     "end_time": "2023-04-30T23:31:38.599564Z",
     "start_time": "2023-04-30T23:31:35.613643Z"
    }
   },
   "outputs": [
    {
     "name": "stderr",
     "output_type": "stream",
     "text": [
      "[nltk_data] Downloading package punkt to /Users/carina/nltk_data...\n",
      "[nltk_data]   Package punkt is already up-to-date!\n"
     ]
    }
   ],
   "source": [
    "\n",
    "#!pip install -U sentence-transformers\n",
    "from sentence_transformers import SentenceTransformer\n",
    "import nltk\n",
    "nltk.download('punkt')\n",
    "from nltk.tokenize import sent_tokenize\n",
    "import pandas as pd\n",
    "from tqdm import tqdm\n",
    "\n",
    "from sklearn.cluster import KMeans\n",
    "from sklearn_extra.cluster import KMedoids\n",
    "import numpy as np"
   ]
  },
  {
   "cell_type": "code",
   "execution_count": 2,
   "id": "0f4780f9",
   "metadata": {
    "ExecuteTime": {
     "end_time": "2023-04-30T23:31:39.920602Z",
     "start_time": "2023-04-30T23:31:39.442188Z"
    }
   },
   "outputs": [],
   "source": [
    "model = SentenceTransformer('sentence-transformers/all-MiniLM-L6-v2')\n"
   ]
  },
  {
   "cell_type": "code",
   "execution_count": 3,
   "id": "8a2480f5",
   "metadata": {
    "ExecuteTime": {
     "end_time": "2023-04-30T23:31:40.535534Z",
     "start_time": "2023-04-30T23:31:40.490055Z"
    }
   },
   "outputs": [],
   "source": [
    "df_original = pd.read_csv('/Users/carina/Downloads/courses/final thesis/dataset/annotated text.csv')\n",
    "df_original.drop(df_original.columns[0],axis=1)\n",
    "heads = df_original.columns.values.tolist()"
   ]
  },
  {
   "cell_type": "code",
   "execution_count": 9,
   "id": "58e15ff1",
   "metadata": {
    "ExecuteTime": {
     "end_time": "2023-04-30T23:41:46.881531Z",
     "start_time": "2023-04-30T23:35:22.729571Z"
    }
   },
   "outputs": [
    {
     "name": "stderr",
     "output_type": "stream",
     "text": [
      "100%|█████████████████████████████████████████| 480/480 [01:07<00:00,  7.06it/s]\n",
      "100%|█████████████████████████████████████████| 480/480 [01:14<00:00,  6.45it/s]\n",
      "100%|█████████████████████████████████████████| 480/480 [01:05<00:00,  7.32it/s]\n",
      "100%|█████████████████████████████████████████| 480/480 [00:46<00:00, 10.32it/s]\n",
      "100%|█████████████████████████████████████████| 480/480 [00:59<00:00,  8.09it/s]\n",
      "100%|█████████████████████████████████████████| 480/480 [01:10<00:00,  6.83it/s]\n"
     ]
    }
   ],
   "source": [
    "emvecs = pd.DataFrame()\n",
    "#numOfsens = pd.DataFrame()\n",
    "for head in heads:\n",
    "    textlist = df_original[head].tolist()\n",
    "    #print(textlist)\n",
    "    emvec = []\n",
    "    #numOfsen = []\n",
    "    for i in tqdm(range(len(textlist))):\n",
    "        text = textlist[i]\n",
    "        sentences = sent_tokenize(text)\n",
    "        #print(sentences)\n",
    "        sentence_embeddings = model.encode(sentences)\n",
    "        embeddings = []\n",
    "        for em in sentence_embeddings:\n",
    "            embeddings.append(em)\n",
    "\n",
    "        #print(len(sentence_embeddings))\n",
    "        emvec.append(embeddings)\n",
    "        #numOfsen.append(len(sentence_embeddings))\n",
    "    #print(numOfsen)\n",
    "    emvecs[head] = emvec\n",
    "    #numOfsens[head] = numOfsen"
   ]
  },
  {
   "cell_type": "code",
   "execution_count": 10,
   "id": "db28a3f7",
   "metadata": {
    "ExecuteTime": {
     "end_time": "2023-04-30T23:42:54.587719Z",
     "start_time": "2023-04-30T23:41:54.795057Z"
    }
   },
   "outputs": [],
   "source": [
    "emvecs.to_csv('/Users/carina/Downloads/courses/final thesis/precessed data/ex3/senvec_senBERT.csv')\n",
    "#numOfsens.to_csv('/Users/carina/Downloads/courses/final thesis/precessed data/ex3/numOfsen.csv')"
   ]
  }
 ],
 "metadata": {
  "kernelspec": {
   "display_name": "Python 3 (ipykernel)",
   "language": "python",
   "name": "python3"
  },
  "language_info": {
   "codemirror_mode": {
    "name": "ipython",
    "version": 3
   },
   "file_extension": ".py",
   "mimetype": "text/x-python",
   "name": "python",
   "nbconvert_exporter": "python",
   "pygments_lexer": "ipython3",
   "version": "3.8.3"
  },
  "toc": {
   "base_numbering": 1,
   "nav_menu": {},
   "number_sections": true,
   "sideBar": true,
   "skip_h1_title": false,
   "title_cell": "Table of Contents",
   "title_sidebar": "Contents",
   "toc_cell": false,
   "toc_position": {},
   "toc_section_display": true,
   "toc_window_display": false
  }
 },
 "nbformat": 4,
 "nbformat_minor": 5
}
