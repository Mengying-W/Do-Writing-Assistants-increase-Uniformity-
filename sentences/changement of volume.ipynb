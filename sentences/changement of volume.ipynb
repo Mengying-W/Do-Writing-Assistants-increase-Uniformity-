{
 "cells": [
  {
   "cell_type": "code",
   "execution_count": 1,
   "id": "6628affd",
   "metadata": {
    "ExecuteTime": {
     "end_time": "2023-05-18T17:00:34.799914Z",
     "start_time": "2023-05-18T17:00:34.240278Z"
    }
   },
   "outputs": [],
   "source": [
    "import pandas as pd\n",
    "import os\n",
    "from tqdm import tqdm"
   ]
  },
  {
   "cell_type": "code",
   "execution_count": 14,
   "id": "9e0a6a90",
   "metadata": {
    "ExecuteTime": {
     "end_time": "2023-05-08T00:32:39.491228Z",
     "start_time": "2023-05-08T00:32:39.427487Z"
    }
   },
   "outputs": [
    {
     "name": "stderr",
     "output_type": "stream",
     "text": [
      "100%|████████████████████████████████████| 480/480 [00:00<00:00, 1559462.37it/s]\n",
      "100%|████████████████████████████████████| 480/480 [00:00<00:00, 1756776.54it/s]\n",
      "100%|████████████████████████████████████| 480/480 [00:00<00:00, 1348470.14it/s]\n",
      "100%|█████████████████████████████████████| 480/480 [00:00<00:00, 969781.27it/s]\n",
      "100%|█████████████████████████████████████| 480/480 [00:00<00:00, 674913.15it/s]\n",
      "100%|████████████████████████████████████| 480/480 [00:00<00:00, 1319309.25it/s]\n",
      "100%|████████████████████████████████████| 480/480 [00:00<00:00, 1477084.31it/s]\n",
      "100%|████████████████████████████████████| 480/480 [00:00<00:00, 1371434.55it/s]\n",
      "100%|████████████████████████████████████| 480/480 [00:00<00:00, 1424816.65it/s]\n",
      "100%|████████████████████████████████████| 480/480 [00:00<00:00, 1180108.98it/s]\n"
     ]
    }
   ],
   "source": [
    "base = '/Users/carina/Downloads/courses/final thesis/precessed data/ex3/volume/'\n",
    "resultbase = '/Users/carina/Downloads/courses/final thesis/precessed data/ex3/resultvolume/'\n",
    "for root, ds, fs in os.walk(base):\n",
    "    for f in fs:\n",
    "        if f != '.DS_Store' :\n",
    "            fullpath = os.path.join(base, f)\n",
    "            resultf = str(f)[7:]\n",
    "            resultpath = os.path.join(resultbase, resultf)\n",
    "            df = pd.read_csv(fullpath)\n",
    "            df = df.drop(df.columns[0],axis=1)\n",
    "            heads = df.columns.values.tolist()\n",
    "            \n",
    "            original_volume = df['paragraph'].tolist()\n",
    "            original_volume = [float(x) for x in original_volume]\n",
    "            \n",
    "            changement = pd.DataFrame()\n",
    "            for head in heads[1:]:\n",
    "                after_volume = df[head].tolist()\n",
    "                after_volume = [float(x) for x in after_volume]\n",
    "                \n",
    "                changeOfvolume = []\n",
    "                for i in tqdm(range(len(after_volume))):\n",
    "                    tem = after_volume[i] - original_volume[i]\n",
    "                    \n",
    "                    changeOfvolume.append(tem)\n",
    "                #print(type(changeOfvolume[0]))\n",
    "                #print(changeOfvolume)\n",
    "                changement[head] = changeOfvolume\n",
    "            changement.to_csv(resultpath)"
   ]
  },
  {
   "cell_type": "code",
   "execution_count": 17,
   "id": "c18bf30e",
   "metadata": {
    "ExecuteTime": {
     "end_time": "2023-05-18T18:03:34.601634Z",
     "start_time": "2023-05-18T18:03:34.584461Z"
    }
   },
   "outputs": [
    {
     "name": "stdout",
     "output_type": "stream",
     "text": [
      "ALBERT\n",
      "rephrase\n",
      "0.71875\n",
      "Grammarly\n",
      "0.5395833333333333\n",
      "chatgpt\n",
      "0.19583333333333333\n",
      "Wordtune\n",
      "0.37916666666666665\n",
      "Quillbot\n",
      "0.5854166666666667\n",
      "senBERT\n",
      "rephrase\n",
      "0.80625\n",
      "Grammarly\n",
      "0.55625\n",
      "chatgpt\n",
      "0.6270833333333333\n",
      "Wordtune\n",
      "0.51875\n",
      "Quillbot\n",
      "0.6708333333333333\n"
     ]
    }
   ],
   "source": [
    "df = pd.read_csv('/Users/carina/Downloads/courses/final thesis/precessed data/ex2/resultvolume/ALBERT.csv')\n",
    "df = df.drop(df.columns[0],axis=1)\n",
    "heads = df.columns.values.tolist()\n",
    "source = ['NLP paper','Literature','News','Encyclopedias','Social Media','Speeches','Interview','Instruction Manuals']\n",
    "\n",
    "print('ALBERT')\n",
    "\n",
    "for head in heads:\n",
    "    print(head)\n",
    "    tem = df[head].tolist()\n",
    "    po = sum(i>0 for i in tem) / 480\n",
    "    nt = 1-po\n",
    "    print(po)\n",
    "                \n",
    "            \n",
    "df = pd.read_csv('/Users/carina/Downloads/courses/final thesis/precessed data/ex2/resultvolume/senBERT.csv')\n",
    "df = df.drop(df.columns[0],axis=1)\n",
    "heads = df.columns.values.tolist()\n",
    "source = ['NLP paper','Literature','News','Encyclopedias','Social Media','Speeches','Interview','Instruction Manuals']\n",
    "\n",
    "print('senBERT')\n",
    " \n",
    "for head in heads:\n",
    "    print(head)\n",
    "    tem = df[head].tolist()\n",
    "    po = sum(i>0 for i in tem) / 480\n",
    "    nt = 1-po\n",
    "    print(po)"
   ]
  },
  {
   "cell_type": "code",
   "execution_count": 15,
   "id": "3d14237d",
   "metadata": {
    "ExecuteTime": {
     "end_time": "2023-05-18T18:01:28.743742Z",
     "start_time": "2023-05-18T18:01:28.732740Z"
    }
   },
   "outputs": [
    {
     "name": "stdout",
     "output_type": "stream",
     "text": [
      "ALBERT\n",
      "rephrase\n",
      "0.7833333333333333\n",
      "0.6833333333333333\n",
      "0.75\n",
      "0.6833333333333333\n",
      "0.6666666666666666\n",
      "0.7666666666666667\n",
      "0.6833333333333333\n",
      "0.7333333333333333\n",
      "Grammarly\n",
      "0.5\n",
      "0.5833333333333334\n",
      "0.6666666666666666\n",
      "0.5166666666666667\n",
      "0.4666666666666667\n",
      "0.6833333333333333\n",
      "0.45\n",
      "0.45\n",
      "chatgpt\n",
      "0.26666666666666666\n",
      "0.36666666666666664\n",
      "0.06666666666666667\n",
      "0.25\n",
      "0.18333333333333332\n",
      "0.11666666666666667\n",
      "0.1\n",
      "0.21666666666666667\n",
      "Wordtune\n",
      "0.4666666666666667\n",
      "0.5166666666666667\n",
      "0.55\n",
      "0.3\n",
      "0.3\n",
      "0.2833333333333333\n",
      "0.35\n",
      "0.26666666666666666\n",
      "Quillbot\n",
      "0.65\n",
      "0.5666666666666667\n",
      "0.5666666666666667\n",
      "0.45\n",
      "0.5166666666666667\n",
      "0.6666666666666666\n",
      "0.7666666666666667\n",
      "0.5\n"
     ]
    }
   ],
   "source": [
    "df = pd.read_csv('/Users/carina/Downloads/courses/final thesis/precessed data/ex2/resultvolume/ALBERT.csv')\n",
    "df = df.drop(df.columns[0],axis=1)\n",
    "heads = df.columns.values.tolist()\n",
    "source = ['NLP paper','Literature','News','Encyclopedias','Social Media','Speeches','Interview','Instruction Manuals']\n",
    "\n",
    "                \n",
    "print('ALBERT')\n",
    "                \n",
    "for head in heads:\n",
    "    print(head)\n",
    "    tem1 = df[head].tolist()\n",
    "    for i in range(8):\n",
    "        #print(source[i])\n",
    "        b = i*60\n",
    "        c = i*60+60\n",
    "        tem = tem1[b:c]\n",
    "        #print(len(tem))\n",
    "        po = sum(i>0 for i in tem) / 60\n",
    "        nt = 1-po\n",
    "        #print('po')\n",
    "        print(po)\n",
    "        #print('nt')\n",
    "        #print(nt)\n",
    "                "
   ]
  },
  {
   "cell_type": "code",
   "execution_count": 16,
   "id": "7b6e349b",
   "metadata": {
    "ExecuteTime": {
     "end_time": "2023-05-18T18:01:30.424924Z",
     "start_time": "2023-05-18T18:01:30.412175Z"
    }
   },
   "outputs": [
    {
     "name": "stdout",
     "output_type": "stream",
     "text": [
      "senBERT\n",
      "rephrase\n",
      "0.6666666666666666\n",
      "0.9\n",
      "0.7833333333333333\n",
      "0.9333333333333333\n",
      "0.8166666666666667\n",
      "0.8\n",
      "0.6833333333333333\n",
      "0.8666666666666667\n",
      "Grammarly\n",
      "0.5\n",
      "0.6166666666666667\n",
      "0.4666666666666667\n",
      "0.5\n",
      "0.5666666666666667\n",
      "0.6666666666666666\n",
      "0.5166666666666667\n",
      "0.6166666666666667\n",
      "chatgpt\n",
      "0.5833333333333334\n",
      "0.55\n",
      "0.8833333333333333\n",
      "0.6166666666666667\n",
      "0.6166666666666667\n",
      "0.5666666666666667\n",
      "0.5166666666666667\n",
      "0.6833333333333333\n",
      "Wordtune\n",
      "0.6\n",
      "0.6833333333333333\n",
      "0.5833333333333334\n",
      "0.5333333333333333\n",
      "0.5333333333333333\n",
      "0.23333333333333334\n",
      "0.3\n",
      "0.6833333333333333\n",
      "Quillbot\n",
      "0.5333333333333333\n",
      "0.6833333333333333\n",
      "0.6333333333333333\n",
      "0.5666666666666667\n",
      "0.7333333333333333\n",
      "0.7666666666666667\n",
      "0.7333333333333333\n",
      "0.7166666666666667\n"
     ]
    }
   ],
   "source": [
    "df = pd.read_csv('/Users/carina/Downloads/courses/final thesis/precessed data/ex2/resultvolume/senBERT.csv')\n",
    "df = df.drop(df.columns[0],axis=1)\n",
    "heads = df.columns.values.tolist()\n",
    "source = ['NLP paper','Literature','News','Encyclopedias','Social Media','Speeches','Interview','Instruction Manuals']\n",
    "\n",
    "                \n",
    "print('senBERT')\n",
    "                \n",
    "for head in heads:\n",
    "    print(head)\n",
    "    tem1 = df[head].tolist()\n",
    "    for i in range(8):\n",
    "        #print(source[i])\n",
    "        b = i*60\n",
    "        c = i*60+60\n",
    "        tem = tem1[b:c]\n",
    "        #print(len(tem))\n",
    "        po = sum(i>0 for i in tem) / 60\n",
    "        nt = 1-po\n",
    "        #print('po')\n",
    "        print(po)\n",
    "        #print('nt')\n",
    "        #print(nt)\n",
    "                "
   ]
  },
  {
   "cell_type": "code",
   "execution_count": null,
   "id": "c7997ce4",
   "metadata": {},
   "outputs": [],
   "source": []
  }
 ],
 "metadata": {
  "kernelspec": {
   "display_name": "Python 3 (ipykernel)",
   "language": "python",
   "name": "python3"
  },
  "language_info": {
   "codemirror_mode": {
    "name": "ipython",
    "version": 3
   },
   "file_extension": ".py",
   "mimetype": "text/x-python",
   "name": "python",
   "nbconvert_exporter": "python",
   "pygments_lexer": "ipython3",
   "version": "3.8.3"
  },
  "toc": {
   "base_numbering": 1,
   "nav_menu": {},
   "number_sections": true,
   "sideBar": true,
   "skip_h1_title": false,
   "title_cell": "Table of Contents",
   "title_sidebar": "Contents",
   "toc_cell": false,
   "toc_position": {},
   "toc_section_display": true,
   "toc_window_display": false
  }
 },
 "nbformat": 4,
 "nbformat_minor": 5
}
