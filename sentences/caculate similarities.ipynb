{
 "cells": [
  {
   "cell_type": "code",
   "execution_count": 30,
   "id": "ab465b58",
   "metadata": {
    "ExecuteTime": {
     "end_time": "2023-05-01T01:54:43.582424Z",
     "start_time": "2023-05-01T01:54:43.579072Z"
    }
   },
   "outputs": [],
   "source": [
    "import numpy as np\n",
    "import pandas as pd\n",
    "from sklearn import preprocessing\n",
    "import os\n",
    "from tqdm import tqdm"
   ]
  },
  {
   "cell_type": "code",
   "execution_count": 33,
   "id": "fd725b23",
   "metadata": {
    "ExecuteTime": {
     "end_time": "2023-05-01T01:55:39.603294Z",
     "start_time": "2023-05-01T01:55:39.461149Z"
    }
   },
   "outputs": [],
   "source": [
    "df = pd.read_csv('/Users/carina/Downloads/courses/final thesis/precessed data/ex3/central_emvec_senBERT.csv')\n",
    "df = df.drop(df.columns[0],axis=1)\n",
    "heads = df.columns.values.tolist()"
   ]
  },
  {
   "cell_type": "code",
   "execution_count": 34,
   "id": "55d44bd8",
   "metadata": {
    "ExecuteTime": {
     "end_time": "2023-05-01T01:56:08.004790Z",
     "start_time": "2023-05-01T01:56:07.335740Z"
    }
   },
   "outputs": [
    {
     "name": "stderr",
     "output_type": "stream",
     "text": [
      "100%|███████████████████████████████████████| 480/480 [00:00<00:00, 6025.83it/s]\n",
      "100%|███████████████████████████████████████| 480/480 [00:00<00:00, 6421.22it/s]\n",
      "100%|███████████████████████████████████████| 480/480 [00:00<00:00, 6746.71it/s]\n",
      "100%|███████████████████████████████████████| 480/480 [00:00<00:00, 6839.54it/s]\n",
      "100%|███████████████████████████████████████| 480/480 [00:00<00:00, 6753.82it/s]\n",
      "100%|███████████████████████████████████████| 480/480 [00:00<00:00, 6694.00it/s]\n",
      "/var/folders/_v/d4r0shvx77l1pjb78kppgd1c0000gn/T/ipykernel_23705/1682709322.py:35: RuntimeWarning: invalid value encountered in true_divide\n",
      "  euc1 = (euc - np.mean(euc)) / np.std(euc)\n"
     ]
    }
   ],
   "source": [
    "df_vec = pd.DataFrame()\n",
    "for head in heads:\n",
    "    digit_value = []\n",
    "    values = df[head].tolist()\n",
    "    for indeics in tqdm(range(len(values))):\n",
    "        value = values[indeics]\n",
    "        value = value.strip('[').strip(']').replace('\\n','').replace('  ',' ').replace('   ',' ').split(' ')\n",
    "        value = [x for x in value if len(x) != 0]\n",
    "        if len(value) != 384:\n",
    "            value = value[0:384]\n",
    "        value = [float(x) for x in value]\n",
    "        digit_value.append(value)\n",
    "    df_vec[head] = digit_value\n",
    "\n",
    "paragraph = df_vec['paragraph'].tolist()\n",
    "paragraph = np.array(paragraph)\n",
    "    \n",
    "df_cos = pd.DataFrame()\n",
    "df_euc = pd.DataFrame()\n",
    "df_euc1 = pd.DataFrame()\n",
    "\n",
    "for head in heads:\n",
    "    cos = []\n",
    "    euc = []\n",
    "    digit_value = df_vec[head].tolist()\n",
    "    digit_value = np.array(digit_value)\n",
    "    for i,j in zip(paragraph,digit_value):\n",
    "        cosine_sim = np.dot(i, j) / (np.linalg.norm(i) * np.linalg.norm(j))\n",
    "        cos.append(cosine_sim)\n",
    "\n",
    "        euclidean_dist = np.linalg.norm(i - j)\n",
    "        #print(i-j)\n",
    "        #print(np.linalg.norm(i - j))\n",
    "        euc.append(euclidean_dist)\n",
    "    euc1 = (euc - np.mean(euc)) / np.std(euc)\n",
    "                #print(euc)\n",
    "                #euc = preprocessing.normalize(euc, norm='l2')\n",
    "    df_cos[head] = cos\n",
    "    df_euc[head] = euc\n",
    "    df_euc1[head] = euc1\n",
    "df_cos = df_cos.drop(df_cos.columns[0],axis=1)\n",
    "df_euc = df_euc.drop(df_euc.columns[0],axis=1)\n",
    "df_euc1 = df_euc1.drop(df_euc1.columns[0],axis=1)\n",
    "\n",
    "df_cos.to_csv('/Users/carina/Downloads/courses/final thesis/precessed data/ex3/cos_senBERT.csv')\n",
    "df_euc.to_csv('/Users/carina/Downloads/courses/final thesis/precessed data/ex3/euc_senBERT.csv')\n",
    "df_euc1.to_csv('/Users/carina/Downloads/courses/final thesis/precessed data/ex3/euc1_senBERT.csv')"
   ]
  }
 ],
 "metadata": {
  "kernelspec": {
   "display_name": "Python 3 (ipykernel)",
   "language": "python",
   "name": "python3"
  },
  "language_info": {
   "codemirror_mode": {
    "name": "ipython",
    "version": 3
   },
   "file_extension": ".py",
   "mimetype": "text/x-python",
   "name": "python",
   "nbconvert_exporter": "python",
   "pygments_lexer": "ipython3",
   "version": "3.8.3"
  },
  "toc": {
   "base_numbering": 1,
   "nav_menu": {},
   "number_sections": true,
   "sideBar": true,
   "skip_h1_title": false,
   "title_cell": "Table of Contents",
   "title_sidebar": "Contents",
   "toc_cell": false,
   "toc_position": {},
   "toc_section_display": true,
   "toc_window_display": false
  }
 },
 "nbformat": 4,
 "nbformat_minor": 5
}
