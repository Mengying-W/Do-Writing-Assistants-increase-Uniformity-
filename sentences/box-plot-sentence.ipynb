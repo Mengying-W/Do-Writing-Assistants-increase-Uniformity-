{
 "cells": [
  {
   "cell_type": "code",
   "execution_count": 1,
   "id": "504e8d38",
   "metadata": {
    "ExecuteTime": {
     "end_time": "2023-05-31T13:52:00.325368Z",
     "start_time": "2023-05-31T13:51:58.242413Z"
    }
   },
   "outputs": [],
   "source": [
    "import csv\n",
    "import pandas as pd\n",
    "import numpy as np\n",
    "import seaborn as sns \n",
    "import matplotlib.pyplot as plt \n",
    "import textstat\n",
    "import os"
   ]
  },
  {
   "cell_type": "code",
   "execution_count": 2,
   "id": "8d0beb02",
   "metadata": {
    "ExecuteTime": {
     "end_time": "2023-05-31T13:52:01.012334Z",
     "start_time": "2023-05-31T13:52:00.990266Z"
    }
   },
   "outputs": [],
   "source": [
    "df = pd.read_csv('/Users/carina/Downloads/courses/final thesis/precessed data/ex2/numOfsen.csv')\n",
    "df = df.drop(df.columns[0],axis=1)\n",
    "WATs = ['Paragraph','Rephrase','Grammarly','ChatGPT','Wordtune','Quillbot']\n",
    "df.columns = WATs\n",
    "\n",
    "\n",
    "heads = df.columns.values.tolist() \n",
    "paragraph = df['Paragraph'].tolist()\n",
    "paragraph = np.array(paragraph)\n",
    "\n",
    "df_amounts = pd.DataFrame()\n",
    "\n",
    "for index in heads:\n",
    "    amounts = []\n",
    "    number = df[index].tolist()\n",
    "    number = np.array(number)\n",
    "    for i,j in zip(paragraph,number):\n",
    "        amount = j- i\n",
    "        amounts.append(amount)\n",
    "    #amounts = (amounts - np.mean(amounts)) / np.std(amounts)\n",
    "    df_amounts[index] = amounts\n",
    "df_amounts = df_amounts.drop(df_amounts.columns[0],axis=1)\n",
    "\n",
    "df_amounts.to_csv('/Users/carina/Downloads/courses/final thesis/precessed data/ex2/changednumOfsens.csv')"
   ]
  },
  {
   "cell_type": "code",
   "execution_count": 4,
   "id": "c8d7705e",
   "metadata": {
    "ExecuteTime": {
     "end_time": "2023-05-31T13:52:17.917118Z",
     "start_time": "2023-05-31T13:52:17.680504Z"
    }
   },
   "outputs": [
    {
     "data": {
      "text/plain": [
       "'\\nb.legend(fontsize=\\'x-large\\',bbox_to_anchor = (1.2, 1))\\nplt.xlabel(\"\", fontdict={\\'family\\' : \\'Times New Roman\\', \\'size\\'   : 320})\\nplt.ylabel(\"euc-dis\", fontdict={\\'family\\' : \\'Times New Roman\\', \\'size\\'   : 160})\\nplt.yticks(fontproperties = \\'Times New Roman\\', size = 320)\\nplt.xticks(fontproperties = \\'Times New Roman\\', size = 320)\\nplt.savefig(\\'/Users/carina/Downloads/courses/final thesis/figures of results/sentence/changement of sentence.pdf\\', format = \\'pdf\\',dpi = 500,bbox_inches=\\'tight\\')\\n'"
      ]
     },
     "execution_count": 4,
     "metadata": {},
     "output_type": "execute_result"
    },
    {
     "data": {
      "image/png": "[encoded data removed]",
      "text/plain": [
       "<Figure size 432x288 with 1 Axes>"
      ]
     },
     "metadata": {
      "needs_background": "light"
     },
     "output_type": "display_data"
    }
   ],
   "source": [
    "df = pd.read_csv('/Users/carina/Downloads/courses/final thesis/precessed data/ex2/changednumOfsens.csv')\n",
    "df = df.drop(df.columns[0],axis=1)\n",
    "heads = df.columns.values.tolist()\n",
    "\n",
    "new_data = pd.DataFrame()\n",
    "WATs = []\n",
    "numOfsen = []\n",
    "for head in heads:\n",
    "    temlist = df[head].tolist()\n",
    "    for item in temlist:\n",
    "        numOfsen.append(item)\n",
    "        WATs.append(head)\n",
    "new_data['WATs'] = WATs\n",
    "new_data['numOfsen'] = numOfsen \n",
    "\n",
    "sns.boxplot(x = 'WATs', y = 'numOfsen',data=new_data,showfliers=False,palette=\"Set3\",width=0.5, linewidth=1.0)\n",
    "#plt.figure(figsize=(10,15))  \n",
    "plt.xlabel(\"\", fontdict={'family' : 'Times New Roman', 'size'   : 320})\n",
    "plt.ylabel(\"Changement of Sentence\", fontdict={'family' : 'Times New Roman', 'size'   : 22})\n",
    "plt.yticks(fontproperties = 'Times New Roman', size = 22)\n",
    "plt.xticks(fontproperties = 'Times New Roman', size = 16)\n",
    "plt.savefig('/Users/carina/Downloads/courses/final thesis/figures of results/sentence/changement of sentence.pdf', format = 'pdf',dpi = 500,bbox_inches='tight')\n",
    "\n",
    "#plt.xlabel(\"\")\n",
    "#plt.ylabel(\"changement of sentence\")\n",
    "#plt.title('num of changed words')\n",
    "#plt.legend(loc = 2, bbox_to_anchor = (1,1))\n",
    "#plt.figure(figsize=(1,1))  \n",
    "\n",
    "'''\n",
    "b.legend(fontsize='x-large',bbox_to_anchor = (1.2, 1))\n",
    "plt.xlabel(\"\", fontdict={'family' : 'Times New Roman', 'size'   : 320})\n",
    "plt.ylabel(\"euc-dis\", fontdict={'family' : 'Times New Roman', 'size'   : 160})\n",
    "plt.yticks(fontproperties = 'Times New Roman', size = 320)\n",
    "plt.xticks(fontproperties = 'Times New Roman', size = 320)\n",
    "plt.savefig('/Users/carina/Downloads/courses/final thesis/figures of results/sentence/changement of sentence.pdf', format = 'pdf',dpi = 500,bbox_inches='tight')\n",
    "'''"
   ]
  },
  {
   "cell_type": "code",
   "execution_count": null,
   "id": "edcfbd29",
   "metadata": {},
   "outputs": [],
   "source": []
  }
 ],
 "metadata": {
  "kernelspec": {
   "display_name": "Python 3 (ipykernel)",
   "language": "python",
   "name": "python3"
  },
  "language_info": {
   "codemirror_mode": {
    "name": "ipython",
    "version": 3
   },
   "file_extension": ".py",
   "mimetype": "text/x-python",
   "name": "python",
   "nbconvert_exporter": "python",
   "pygments_lexer": "ipython3",
   "version": "3.8.3"
  },
  "toc": {
   "base_numbering": 1,
   "nav_menu": {},
   "number_sections": true,
   "sideBar": true,
   "skip_h1_title": false,
   "title_cell": "Table of Contents",
   "title_sidebar": "Contents",
   "toc_cell": false,
   "toc_position": {},
   "toc_section_display": true,
   "toc_window_display": false
  }
 },
 "nbformat": 4,
 "nbformat_minor": 5
}
