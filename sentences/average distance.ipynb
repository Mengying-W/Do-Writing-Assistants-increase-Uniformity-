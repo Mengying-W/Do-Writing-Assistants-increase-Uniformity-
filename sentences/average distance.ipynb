{
 "cells": [
  {
   "cell_type": "code",
   "execution_count": 2,
   "id": "67af6878",
   "metadata": {
    "ExecuteTime": {
     "end_time": "2023-05-01T03:33:50.519161Z",
     "start_time": "2023-05-01T03:33:49.295636Z"
    }
   },
   "outputs": [],
   "source": [
    "import numpy as np\n",
    "import pandas as pd\n",
    "from sklearn import preprocessing\n",
    "import os\n",
    "from tqdm import tqdm"
   ]
  },
  {
   "cell_type": "code",
   "execution_count": 3,
   "id": "cf4c730b",
   "metadata": {
    "ExecuteTime": {
     "end_time": "2023-05-01T03:33:51.781201Z",
     "start_time": "2023-05-01T03:33:51.155107Z"
    }
   },
   "outputs": [
    {
     "name": "stderr",
     "output_type": "stream",
     "text": [
      "100%|███████████████████████████████████████| 480/480 [00:00<00:00, 6312.86it/s]\n",
      "100%|███████████████████████████████████████| 480/480 [00:00<00:00, 6274.18it/s]\n",
      "100%|███████████████████████████████████████| 480/480 [00:00<00:00, 6769.51it/s]\n",
      "100%|███████████████████████████████████████| 480/480 [00:00<00:00, 6580.20it/s]\n",
      "100%|███████████████████████████████████████| 480/480 [00:00<00:00, 7048.78it/s]\n",
      "100%|███████████████████████████████████████| 480/480 [00:00<00:00, 6633.12it/s]\n"
     ]
    }
   ],
   "source": [
    "df_central = pd.read_csv('/Users/carina/Downloads/courses/final thesis/precessed data/ex3/central_emvec_senBERT.csv')\n",
    "df_central = df_central.drop(df_central.columns[0],axis=1)\n",
    "heads = df_central.columns.values.tolist()\n",
    "\n",
    "df_central_vec = pd.DataFrame()\n",
    "for head in heads:\n",
    "    digit_value = []\n",
    "    values = df_central[head].tolist()\n",
    "    for indeics in tqdm(range(len(values))):\n",
    "        value = values[indeics]\n",
    "        value = value.strip('[').strip(']').replace('\\n','').replace('  ',' ').replace('   ',' ').split(' ')\n",
    "        value = [x for x in value if len(x) != 0]\n",
    "        if len(value) != 384:\n",
    "            value = value[0:384]\n",
    "        value = [float(x) for x in value]\n",
    "        digit_value.append(value)\n",
    "    df_central_vec[head] = digit_value"
   ]
  },
  {
   "cell_type": "code",
   "execution_count": 4,
   "id": "de33003b",
   "metadata": {
    "ExecuteTime": {
     "end_time": "2023-05-01T03:33:52.411581Z",
     "start_time": "2023-05-01T03:33:52.405632Z"
    }
   },
   "outputs": [],
   "source": [
    "def get_float_senBERT_vector(vectorstrlist):\n",
    "    float_vectors = []\n",
    "    for item in vectorstrlist:\n",
    "        item = item.replace(\" \",\"\").replace(\"\\n\",\"\")\n",
    "        item = item.strip(\"(\").strip(\")\").strip(\"[\").strip(\"]\")\n",
    "        item = item.split(',')[0:384]\n",
    "        item[383] = item[383].strip(']')\n",
    "        item = [float(x) for x in item]\n",
    "        #print(item)\n",
    "        float_vectors.append(item)\n",
    "    return float_vectors"
   ]
  },
  {
   "cell_type": "code",
   "execution_count": 5,
   "id": "819fa93c",
   "metadata": {
    "ExecuteTime": {
     "end_time": "2023-05-01T03:33:58.298611Z",
     "start_time": "2023-05-01T03:33:53.273435Z"
    }
   },
   "outputs": [
    {
     "name": "stderr",
     "output_type": "stream",
     "text": [
      "100%|████████████████████████████████████████| 480/480 [00:00<00:00, 782.96it/s]\n",
      "100%|████████████████████████████████████████| 480/480 [00:00<00:00, 743.10it/s]\n",
      "100%|████████████████████████████████████████| 480/480 [00:00<00:00, 800.70it/s]\n",
      "100%|███████████████████████████████████████| 480/480 [00:00<00:00, 1007.14it/s]\n",
      "100%|████████████████████████████████████████| 480/480 [00:00<00:00, 871.65it/s]\n",
      "100%|████████████████████████████████████████| 480/480 [00:00<00:00, 751.70it/s]\n"
     ]
    }
   ],
   "source": [
    "df_central_all = pd.read_csv('/Users/carina/Downloads/courses/final thesis/precessed data/ex3/senvec_senBERT.csv')\n",
    "df_central_all = df_central_all.drop(df_central_all.columns[0],axis=1)\n",
    "heads = df_central_all.columns.values.tolist()\n",
    "\n",
    "df_allvec = pd.DataFrame()\n",
    "\n",
    "for head in heads:\n",
    "    allvectors = df_central_all[head].tolist()\n",
    "    length = len(allvectors)\n",
    "    \n",
    "    float_vecs = []\n",
    "    for i in tqdm(range(length)):\n",
    "        vectors = allvectors[i]\n",
    "        vectors = vectors.strip(\"[\").strip(\"]\").split('array')\n",
    "        vectors = [x for x in vectors if len(x) != 0]\n",
    "        #print(vectors)\n",
    "        vectors = get_float_senBERT_vector(vectors)\n",
    "        float_vecs.append(vectors)\n",
    "    df_allvec[head] = float_vecs"
   ]
  },
  {
   "cell_type": "code",
   "execution_count": 10,
   "id": "4beec175",
   "metadata": {
    "ExecuteTime": {
     "end_time": "2023-05-01T03:36:58.222616Z",
     "start_time": "2023-05-01T03:36:56.757640Z"
    }
   },
   "outputs": [
    {
     "name": "stderr",
     "output_type": "stream",
     "text": [
      "480it [00:00, 2086.94it/s]\n",
      "480it [00:00, 1934.14it/s]\n",
      "480it [00:00, 1886.14it/s]\n",
      "480it [00:00, 2536.47it/s]\n",
      "480it [00:00, 1981.78it/s]\n",
      "480it [00:00, 1784.69it/s]\n"
     ]
    }
   ],
   "source": [
    "df_cos = pd.DataFrame()\n",
    "df_euc = pd.DataFrame()\n",
    "df_euc1 = pd.DataFrame()\n",
    "\n",
    "for head in heads:\n",
    "    all_vecs = df_allvec[head].tolist()\n",
    "    medoidvecs = df_central_vec[head].tolist()\n",
    "    \n",
    "    avg_euc = []\n",
    "    avg_cos = []\n",
    "    avg_euc = []\n",
    "    \n",
    "    for all_vec,medoidvec in tqdm(zip(all_vecs,medoidvecs)):\n",
    "        #print(len(all_vec))\n",
    "        medoidvec = np.array(medoidvec)\n",
    "        \n",
    "        euc_dis = 0.0\n",
    "        cos_simi = 0.0\n",
    "        euc_dis = 0.0  \n",
    "        \n",
    "        for vec in all_vec:\n",
    "            #print(len(vec))\n",
    "            vec = np.array(vec)\n",
    "            cosine_sim = np.dot(vec, medoidvec) / (np.linalg.norm(vec) * np.linalg.norm(medoidvec))\n",
    "            cos_simi = cos_simi + cosine_sim\n",
    "            euclidean_dist = np.linalg.norm(vec - medoidvec)\n",
    "            euc_dis = euc_dis + euclidean_dist\n",
    "            \n",
    "        avg_cos_value = cos_simi / (len(all_vecs) - 1)\n",
    "        avg_cos.append(avg_cos_value)\n",
    "        \n",
    "        avg_euc_value = euc_dis / (len(all_vecs) - 1)\n",
    "        avg_euc.append(avg_euc_value)\n",
    "\n",
    "    euc1 = (avg_euc - np.mean(avg_euc)) / np.std(avg_euc)\n",
    "    \n",
    "    df_cos[head] = avg_cos\n",
    "    df_euc[head] = avg_euc\n",
    "    df_euc1[head] = euc1"
   ]
  },
  {
   "cell_type": "code",
   "execution_count": 11,
   "id": "8f26f484",
   "metadata": {
    "ExecuteTime": {
     "end_time": "2023-05-01T03:37:08.304818Z",
     "start_time": "2023-05-01T03:37:08.277598Z"
    }
   },
   "outputs": [],
   "source": [
    "df_cos.to_csv('/Users/carina/Downloads/courses/final thesis/precessed data/ex3/avg_cos_senBERT.csv')\n",
    "df_euc.to_csv('/Users/carina/Downloads/courses/final thesis/precessed data/ex3/avg_euc_senBERT.csv')\n",
    "df_euc1.to_csv('/Users/carina/Downloads/courses/final thesis/precessed data/ex3/avg_euc1_senBERT.csv')"
   ]
  },
  {
   "cell_type": "code",
   "execution_count": 12,
   "id": "f1185697",
   "metadata": {
    "ExecuteTime": {
     "end_time": "2023-05-01T03:38:14.088907Z",
     "start_time": "2023-05-01T03:38:12.946603Z"
    }
   },
   "outputs": [
    {
     "name": "stderr",
     "output_type": "stream",
     "text": [
      "100%|███████████████████████████████████████| 480/480 [00:00<00:00, 3314.53it/s]\n",
      "100%|███████████████████████████████████████| 480/480 [00:00<00:00, 3401.53it/s]\n",
      "100%|███████████████████████████████████████| 480/480 [00:00<00:00, 3220.40it/s]\n",
      "100%|███████████████████████████████████████| 480/480 [00:00<00:00, 3593.20it/s]\n",
      "100%|███████████████████████████████████████| 480/480 [00:00<00:00, 3604.82it/s]\n",
      "100%|███████████████████████████████████████| 480/480 [00:00<00:00, 3218.08it/s]\n"
     ]
    }
   ],
   "source": [
    "df_central = pd.read_csv('/Users/carina/Downloads/courses/final thesis/precessed data/ex3/central_emvec_ALBERT.csv')\n",
    "df_central = df_central.drop(df_central.columns[0],axis=1)\n",
    "heads = df_central.columns.values.tolist()\n",
    "\n",
    "df_central_vec = pd.DataFrame()\n",
    "for head in heads:\n",
    "    digit_value = []\n",
    "    values = df_central[head].tolist()\n",
    "    for indeics in tqdm(range(len(values))):\n",
    "        value = values[indeics]\n",
    "        value = value.strip('[').strip(']').replace('\\n','').replace('  ',' ').replace('   ',' ').split(' ')\n",
    "        value = [x for x in value if len(x) != 0]\n",
    "        value = [float(x) for x in value]\n",
    "        digit_value.append(value)\n",
    "    \n",
    "    df_central_vec[head] = digit_value"
   ]
  },
  {
   "cell_type": "code",
   "execution_count": 13,
   "id": "9696e802",
   "metadata": {
    "ExecuteTime": {
     "end_time": "2023-05-01T03:38:14.739315Z",
     "start_time": "2023-05-01T03:38:14.734036Z"
    }
   },
   "outputs": [],
   "source": [
    "def get_floatvec_ALBERT(vecslist):\n",
    "    vecslist = vecslist.split('],')\n",
    "    float_vecs = []\n",
    "    for item in vecslist:\n",
    "        item = item.strip('[').strip(']').replace(' ','')\n",
    "        item = item.split(',')\n",
    "        single_values = []\n",
    "        for vecs in item:\n",
    "            vecs = vecs.strip('[')\n",
    "            single_values.append(vecs)\n",
    "        single_values = [float(x) for x in single_values]\n",
    "        float_vecs.append(single_values)\n",
    "    return float_vecs"
   ]
  },
  {
   "cell_type": "code",
   "execution_count": 14,
   "id": "343f9923",
   "metadata": {
    "ExecuteTime": {
     "end_time": "2023-05-01T03:38:30.692889Z",
     "start_time": "2023-05-01T03:38:15.473944Z"
    }
   },
   "outputs": [
    {
     "name": "stderr",
     "output_type": "stream",
     "text": [
      "100%|████████████████████████████████████████| 480/480 [00:02<00:00, 239.99it/s]\n",
      "100%|████████████████████████████████████████| 480/480 [00:01<00:00, 242.31it/s]\n",
      "100%|████████████████████████████████████████| 480/480 [00:02<00:00, 235.08it/s]\n",
      "100%|████████████████████████████████████████| 480/480 [00:01<00:00, 310.81it/s]\n",
      "100%|████████████████████████████████████████| 480/480 [00:01<00:00, 257.63it/s]\n",
      "100%|████████████████████████████████████████| 480/480 [00:02<00:00, 185.67it/s]\n"
     ]
    }
   ],
   "source": [
    "df_allvectors = pd.read_csv('/Users/carina/Downloads/courses/final thesis/precessed data/ex3/senvec_ALBERT.csv')\n",
    "df_allvectors = df_allvectors.drop(df_allvectors.columns[0],axis=1)\n",
    "heads = df_allvectors.columns.values.tolist()\n",
    "df_allvec = pd.DataFrame()\n",
    "\n",
    "for head in heads:\n",
    "    allvectors = df_allvectors[head].tolist()\n",
    "    length = len(allvectors)\n",
    "    \n",
    "    float_vecs = []\n",
    "    for i in tqdm(range(length)):\n",
    "        vectors = allvectors[i]\n",
    "        vectors = get_floatvec_ALBERT(vectors)\n",
    "        float_vecs.append(vectors)\n",
    "    df_allvec[head] = float_vecs\n",
    "        "
   ]
  },
  {
   "cell_type": "code",
   "execution_count": 15,
   "id": "af977a6f",
   "metadata": {
    "ExecuteTime": {
     "end_time": "2023-05-01T03:38:33.742281Z",
     "start_time": "2023-05-01T03:38:31.428258Z"
    }
   },
   "outputs": [
    {
     "name": "stderr",
     "output_type": "stream",
     "text": [
      "480it [00:00, 1284.63it/s]\n",
      "480it [00:00, 1269.06it/s]\n",
      "480it [00:00, 1215.75it/s]\n",
      "480it [00:00, 1556.87it/s]\n",
      "480it [00:00, 1282.02it/s]\n",
      "480it [00:00, 1135.81it/s]\n"
     ]
    }
   ],
   "source": [
    "df_cos = pd.DataFrame()\n",
    "df_euc = pd.DataFrame()\n",
    "df_euc1 = pd.DataFrame()\n",
    "\n",
    "for head in heads:\n",
    "    all_vecs = df_allvec[head].tolist()\n",
    "    medoidvecs = df_central_vec[head].tolist()\n",
    "    \n",
    "    avg_euc = []\n",
    "    avg_cos = []\n",
    "    avg_euc = []\n",
    "    \n",
    "    for all_vec,medoidvec in tqdm(zip(all_vecs,medoidvecs)):\n",
    "        medoidvec = np.array(medoidvec)\n",
    "        \n",
    "        euc_dis = 0.0\n",
    "        cos_simi = 0.0\n",
    "        euc_dis = 0.0\n",
    "        \n",
    "        for vec in all_vec:\n",
    "            vec = np.array(vec)\n",
    "            cosine_sim = np.dot(vec, medoidvec) / (np.linalg.norm(vec) * np.linalg.norm(medoidvec))\n",
    "            cos_simi = cos_simi + cosine_sim\n",
    "            euclidean_dist = np.linalg.norm(vec - medoidvec)\n",
    "            euc_dis = euc_dis + euclidean_dist\n",
    "            \n",
    "        avg_cos_value = cos_simi / (len(all_vecs) - 1)\n",
    "        avg_cos.append(avg_cos_value)\n",
    "        \n",
    "        avg_euc_value = euc_dis / (len(all_vecs) - 1)\n",
    "        avg_euc.append(avg_euc_value)\n",
    "\n",
    "    euc1 = (avg_euc - np.mean(avg_euc)) / np.std(avg_euc)\n",
    "    \n",
    "    df_cos[head] = avg_cos\n",
    "    df_euc[head] = avg_euc\n",
    "    df_euc1[head] = euc1"
   ]
  },
  {
   "cell_type": "code",
   "execution_count": 16,
   "id": "f1b6aaf3",
   "metadata": {
    "ExecuteTime": {
     "end_time": "2023-05-01T03:38:35.205002Z",
     "start_time": "2023-05-01T03:38:35.182302Z"
    }
   },
   "outputs": [],
   "source": [
    "df_cos.to_csv('/Users/carina/Downloads/courses/final thesis/precessed data/ex3/avg_cos_ALBERT.csv')\n",
    "df_euc.to_csv('/Users/carina/Downloads/courses/final thesis/precessed data/ex3/avg_euc_ALBERT.csv')\n",
    "df_euc1.to_csv('/Users/carina/Downloads/courses/final thesis/precessed data/ex3/avg_euc1_ALBERT.csv')"
   ]
  },
  {
   "cell_type": "code",
   "execution_count": null,
   "id": "199d4401",
   "metadata": {},
   "outputs": [],
   "source": []
  }
 ],
 "metadata": {
  "kernelspec": {
   "display_name": "Python 3 (ipykernel)",
   "language": "python",
   "name": "python3"
  },
  "language_info": {
   "codemirror_mode": {
    "name": "ipython",
    "version": 3
   },
   "file_extension": ".py",
   "mimetype": "text/x-python",
   "name": "python",
   "nbconvert_exporter": "python",
   "pygments_lexer": "ipython3",
   "version": "3.8.3"
  },
  "toc": {
   "base_numbering": 1,
   "nav_menu": {},
   "number_sections": true,
   "sideBar": true,
   "skip_h1_title": false,
   "title_cell": "Table of Contents",
   "title_sidebar": "Contents",
   "toc_cell": false,
   "toc_position": {},
   "toc_section_display": true,
   "toc_window_display": false
  }
 },
 "nbformat": 4,
 "nbformat_minor": 5
}
