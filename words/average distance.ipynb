{
 "cells": [
  {
   "cell_type": "code",
   "execution_count": 1,
   "id": "67af6878",
   "metadata": {
    "ExecuteTime": {
     "end_time": "2023-05-08T09:54:02.270719Z",
     "start_time": "2023-05-08T09:54:01.145495Z"
    }
   },
   "outputs": [],
   "source": [
    "import numpy as np\n",
    "import pandas as pd\n",
    "from sklearn import preprocessing\n",
    "import os\n",
    "from tqdm import tqdm"
   ]
  },
  {
   "cell_type": "code",
   "execution_count": 2,
   "id": "cf4c730b",
   "metadata": {
    "ExecuteTime": {
     "end_time": "2023-05-08T09:54:04.062049Z",
     "start_time": "2023-05-08T09:54:02.916715Z"
    }
   },
   "outputs": [
    {
     "name": "stderr",
     "output_type": "stream",
     "text": [
      "100%|███████████████████████████████████████| 480/480 [00:00<00:00, 3419.44it/s]\n",
      "100%|███████████████████████████████████████| 480/480 [00:00<00:00, 3379.57it/s]\n",
      "100%|███████████████████████████████████████| 480/480 [00:00<00:00, 3317.39it/s]\n",
      "100%|███████████████████████████████████████| 480/480 [00:00<00:00, 3635.81it/s]\n",
      "100%|███████████████████████████████████████| 480/480 [00:00<00:00, 3569.73it/s]\n",
      "100%|███████████████████████████████████████| 480/480 [00:00<00:00, 3487.23it/s]\n"
     ]
    }
   ],
   "source": [
    "df_central = pd.read_csv('/Users/carina/Downloads/courses/final thesis/precessed data/ex2/central points/central_emvec_GPT2_allwords.csv')\n",
    "df_central = df_central.drop(df_central.columns[0],axis=1)\n",
    "heads = df_central.columns.values.tolist()\n",
    "\n",
    "df_central_vec = pd.DataFrame()\n",
    "for head in heads:\n",
    "    digit_value = []\n",
    "    values = df_central[head].tolist()\n",
    "    for indeics in tqdm(range(len(values))):\n",
    "        value = values[indeics]\n",
    "        value = value.strip('[').strip(']').replace('\\n','').replace('  ',' ').replace('   ',' ').split(' ')\n",
    "        value = [x for x in value if len(x) != 0]\n",
    "        if len(value) != 768:\n",
    "            value = value[0:768]\n",
    "        value = [float(x) for x in value]\n",
    "        digit_value.append(value)\n",
    "    df_central_vec[head] = digit_value"
   ]
  },
  {
   "cell_type": "code",
   "execution_count": 3,
   "id": "de33003b",
   "metadata": {
    "ExecuteTime": {
     "end_time": "2023-05-08T09:54:04.654978Z",
     "start_time": "2023-05-08T09:54:04.649009Z"
    }
   },
   "outputs": [],
   "source": [
    "def get_float_GPT2BERT_vector(vectorstrlist):\n",
    "    float_vectors = []\n",
    "    for item in vectorstrlist:\n",
    "        item = item.replace(\" \",\"\").replace(\"\\n\",\"\")\n",
    "        item = item.strip(\"(\").strip(\")\").strip(\"[\").strip(\"]\")\n",
    "        item = item.split(',')[0:768]\n",
    "        item[767] = item[767].strip(']')\n",
    "        item = [float(x) for x in item]\n",
    "        float_vectors.append(item)\n",
    "    return float_vectors"
   ]
  },
  {
   "cell_type": "code",
   "execution_count": 4,
   "id": "819fa93c",
   "metadata": {
    "ExecuteTime": {
     "end_time": "2023-05-08T10:00:09.303592Z",
     "start_time": "2023-05-08T09:54:06.222562Z"
    }
   },
   "outputs": [
    {
     "name": "stderr",
     "output_type": "stream",
     "text": [
      "100%|█████████████████████████████████████████| 480/480 [00:33<00:00, 14.38it/s]\n",
      "100%|█████████████████████████████████████████| 480/480 [00:39<00:00, 12.01it/s]\n",
      "100%|█████████████████████████████████████████| 480/480 [00:39<00:00, 12.03it/s]\n",
      "100%|█████████████████████████████████████████| 480/480 [00:41<00:00, 11.58it/s]\n",
      "100%|█████████████████████████████████████████| 480/480 [01:22<00:00,  5.81it/s]\n",
      "100%|█████████████████████████████████████████| 480/480 [00:32<00:00, 14.70it/s]\n"
     ]
    }
   ],
   "source": [
    "df_central_all = pd.read_csv('/Users/carina/Downloads/courses/final thesis/precessed data/ex2/emvecs/emvec_GPT2_allwords.csv')\n",
    "df_central_all = df_central_all.drop(df_central_all.columns[0],axis=1)\n",
    "heads = df_central_all.columns.values.tolist()\n",
    "\n",
    "df_allvec = pd.DataFrame()\n",
    "\n",
    "for head in heads:\n",
    "    allvectors = df_central_all[head].tolist()\n",
    "    length = len(allvectors)\n",
    "    \n",
    "    float_vecs = []\n",
    "    for i in tqdm(range(length)):\n",
    "        vectors = allvectors[i]\n",
    "        vectors = vectors.strip(\"[\").strip(\"]\").split('array')\n",
    "        vectors = [x for x in vectors if len(x) != 0]\n",
    "        #print(vectors)\n",
    "        vectors = get_float_GPT2BERT_vector(vectors)\n",
    "        float_vecs.append(vectors)\n",
    "    df_allvec[head] = float_vecs"
   ]
  },
  {
   "cell_type": "code",
   "execution_count": 5,
   "id": "4beec175",
   "metadata": {
    "ExecuteTime": {
     "end_time": "2023-05-08T10:01:11.655335Z",
     "start_time": "2023-05-08T10:00:09.337208Z"
    }
   },
   "outputs": [
    {
     "name": "stderr",
     "output_type": "stream",
     "text": [
      "480it [00:13, 34.60it/s]\n",
      "480it [00:11, 43.25it/s]\n",
      "480it [00:09, 49.12it/s]\n",
      "480it [00:08, 58.11it/s]\n",
      "480it [00:09, 53.11it/s]\n",
      "480it [00:10, 47.42it/s]\n"
     ]
    }
   ],
   "source": [
    "df_cos = pd.DataFrame()\n",
    "df_euc = pd.DataFrame()\n",
    "df_euc1 = pd.DataFrame()\n",
    "\n",
    "for head in heads:\n",
    "    all_vecs = df_allvec[head].tolist()\n",
    "    medoidvecs = df_central_vec[head].tolist()\n",
    "    \n",
    "    avg_euc = []\n",
    "    avg_cos = []\n",
    "    avg_euc = []\n",
    "    \n",
    "    for all_vec,medoidvec in tqdm(zip(all_vecs,medoidvecs)):\n",
    "        medoidvec = np.array(medoidvec)\n",
    "        \n",
    "        euc_dis = 0.0\n",
    "        cos_simi = 0.0\n",
    "        euc_dis = 0.0\n",
    "        \n",
    "        for vec in all_vec:\n",
    "            vec = np.array(vec)\n",
    "            cosine_sim = np.dot(vec, medoidvec) / (np.linalg.norm(vec) * np.linalg.norm(medoidvec))\n",
    "            cos_simi = cos_simi + cosine_sim\n",
    "            euclidean_dist = np.linalg.norm(vec - medoidvec)\n",
    "            euc_dis = euc_dis + euclidean_dist\n",
    "            \n",
    "        avg_cos_value = cos_simi / (len(all_vecs) - 1)\n",
    "        avg_cos.append(avg_cos_value)\n",
    "        \n",
    "        avg_euc_value = euc_dis / (len(all_vecs) - 1)\n",
    "        avg_euc.append(avg_euc_value)\n",
    "\n",
    "    euc1 = (avg_euc - np.mean(avg_euc)) / np.std(avg_euc)\n",
    "    \n",
    "    df_cos[head] = avg_cos\n",
    "    df_euc[head] = avg_euc\n",
    "    df_euc1[head] = euc1"
   ]
  },
  {
   "cell_type": "code",
   "execution_count": 6,
   "id": "8f26f484",
   "metadata": {
    "ExecuteTime": {
     "end_time": "2023-05-08T10:01:11.799414Z",
     "start_time": "2023-05-08T10:01:11.666622Z"
    }
   },
   "outputs": [],
   "source": [
    "df_cos.to_csv('/Users/carina/Downloads/courses/final thesis/precessed data/ex2/avg_simi/cos/avg_cos_GPT2_allwords.csv')\n",
    "df_euc.to_csv('/Users/carina/Downloads/courses/final thesis/precessed data/ex2/avg_simi/euc/avg_euc_GPT2_allwords.csv')\n",
    "df_euc1.to_csv('/Users/carina/Downloads/courses/final thesis/precessed data/ex2/avg_simi/euc1/avg_euc1_GPT2_allwords.csv')"
   ]
  },
  {
   "cell_type": "code",
   "execution_count": null,
   "id": "a6cf8198",
   "metadata": {},
   "outputs": [],
   "source": []
  }
 ],
 "metadata": {
  "kernelspec": {
   "display_name": "Python 3 (ipykernel)",
   "language": "python",
   "name": "python3"
  },
  "language_info": {
   "codemirror_mode": {
    "name": "ipython",
    "version": 3
   },
   "file_extension": ".py",
   "mimetype": "text/x-python",
   "name": "python",
   "nbconvert_exporter": "python",
   "pygments_lexer": "ipython3",
   "version": "3.8.3"
  },
  "toc": {
   "base_numbering": 1,
   "nav_menu": {},
   "number_sections": true,
   "sideBar": true,
   "skip_h1_title": false,
   "title_cell": "Table of Contents",
   "title_sidebar": "Contents",
   "toc_cell": false,
   "toc_position": {},
   "toc_section_display": true,
   "toc_window_display": false
  }
 },
 "nbformat": 4,
 "nbformat_minor": 5
}
