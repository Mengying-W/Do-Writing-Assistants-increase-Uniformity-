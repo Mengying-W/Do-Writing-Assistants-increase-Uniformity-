{
 "cells": [
  {
   "cell_type": "code",
   "execution_count": 1,
   "id": "7b4e9b50",
   "metadata": {
    "ExecuteTime": {
     "end_time": "2023-05-07T00:17:47.449840Z",
     "start_time": "2023-05-07T00:17:46.022606Z"
    }
   },
   "outputs": [],
   "source": [
    "from scipy.spatial import ConvexHull\n",
    "from sklearn.decomposition import PCA\n",
    "import pandas as pd\n",
    "from tqdm import tqdm\n",
    "import os"
   ]
  },
  {
   "cell_type": "code",
   "execution_count": 2,
   "id": "4bd2d544",
   "metadata": {
    "ExecuteTime": {
     "end_time": "2023-05-07T00:17:48.301836Z",
     "start_time": "2023-05-07T00:17:48.296931Z"
    }
   },
   "outputs": [],
   "source": [
    "def get_convex_hull_volume(sent_embeddings):\n",
    "    \n",
    "    lenOfpoints = len(sent_embeddings)\n",
    "    if lenOfpoints >= 9:\n",
    "        pca = PCA(n_components=8)\n",
    "    else :\n",
    "        numOfdim = lenOfpoints - 1\n",
    "        pca = PCA(n_components=numOfdim)\n",
    "    cluster_embs = pca.fit_transform(sent_embeddings)\n",
    "    hull = ConvexHull(cluster_embs)\n",
    "    return hull.volume\n",
    "\n"
   ]
  },
  {
   "cell_type": "code",
   "execution_count": 3,
   "id": "751a9d96",
   "metadata": {
    "ExecuteTime": {
     "end_time": "2023-05-07T00:17:49.786100Z",
     "start_time": "2023-05-07T00:17:49.780872Z"
    }
   },
   "outputs": [],
   "source": [
    "def get_float_GPT2BERT_vector(vectorstrlist):\n",
    "    float_vectors = []\n",
    "    for item in vectorstrlist:\n",
    "        item = item.replace(\" \",\"\").replace(\"\\n\",\"\")\n",
    "        item = item.strip(\"(\").strip(\")\").strip(\"[\").strip(\"]\")\n",
    "        item = item.split(',')[0:768]\n",
    "        item[767] = item[767].strip(']')\n",
    "        item = [float(x) for x in item]\n",
    "        float_vectors.append(item)\n",
    "    return float_vectors"
   ]
  },
  {
   "cell_type": "code",
   "execution_count": 7,
   "id": "b873221a",
   "metadata": {
    "ExecuteTime": {
     "end_time": "2023-05-07T00:21:13.650401Z",
     "start_time": "2023-05-07T00:18:32.449315Z"
    }
   },
   "outputs": [
    {
     "name": "stdout",
     "output_type": "stream",
     "text": [
      "/Users/carina/Downloads/courses/final thesis/precessed data/ex2/emvecs/emvec_GPT2_keywords_tfidf15.csv\n"
     ]
    },
    {
     "name": "stderr",
     "output_type": "stream",
     "text": [
      "100%|████████████████████████████████████████| 480/480 [00:02<00:00, 167.69it/s]\n",
      "100%|████████████████████████████████████████| 480/480 [00:03<00:00, 159.93it/s]\n",
      "100%|████████████████████████████████████████| 480/480 [00:02<00:00, 169.49it/s]\n",
      "100%|████████████████████████████████████████| 480/480 [00:02<00:00, 170.02it/s]\n",
      "100%|████████████████████████████████████████| 480/480 [00:02<00:00, 171.17it/s]\n",
      "100%|████████████████████████████████████████| 480/480 [00:02<00:00, 172.00it/s]\n"
     ]
    },
    {
     "name": "stdout",
     "output_type": "stream",
     "text": [
      "/Users/carina/Downloads/courses/final thesis/precessed data/ex2/volumes/volume_GPT2_keywords_tfidf15.csv\n",
      "/Users/carina/Downloads/courses/final thesis/precessed data/ex2/emvecs/emvec_GPT2_keywords_tfidf10.csv\n"
     ]
    },
    {
     "name": "stderr",
     "output_type": "stream",
     "text": [
      "100%|████████████████████████████████████████| 480/480 [00:01<00:00, 292.82it/s]\n",
      "100%|████████████████████████████████████████| 480/480 [00:01<00:00, 284.93it/s]\n",
      "100%|████████████████████████████████████████| 480/480 [00:01<00:00, 310.41it/s]\n",
      "100%|████████████████████████████████████████| 480/480 [00:01<00:00, 312.54it/s]\n",
      "100%|████████████████████████████████████████| 480/480 [00:01<00:00, 310.94it/s]\n",
      " 40%|████████████████                        | 193/480 [00:00<00:00, 319.13it/s]"
     ]
    },
    {
     "name": "stdout",
     "output_type": "stream",
     "text": [
      "137\n"
     ]
    },
    {
     "name": "stderr",
     "output_type": "stream",
     "text": [
      "100%|████████████████████████████████████████| 480/480 [00:01<00:00, 314.05it/s]\n"
     ]
    },
    {
     "name": "stdout",
     "output_type": "stream",
     "text": [
      "/Users/carina/Downloads/courses/final thesis/precessed data/ex2/volumes/volume_GPT2_keywords_tfidf10.csv\n",
      "/Users/carina/Downloads/courses/final thesis/precessed data/ex2/emvecs/emvec_GPT2_keywords_YAKE15.csv\n"
     ]
    },
    {
     "name": "stderr",
     "output_type": "stream",
     "text": [
      "100%|████████████████████████████████████████| 480/480 [00:02<00:00, 165.51it/s]\n",
      "100%|████████████████████████████████████████| 480/480 [00:02<00:00, 166.62it/s]\n",
      "100%|████████████████████████████████████████| 480/480 [00:02<00:00, 166.08it/s]\n",
      "100%|████████████████████████████████████████| 480/480 [00:02<00:00, 166.20it/s]\n",
      "100%|████████████████████████████████████████| 480/480 [00:02<00:00, 166.21it/s]\n",
      "100%|████████████████████████████████████████| 480/480 [00:02<00:00, 166.39it/s]\n"
     ]
    },
    {
     "name": "stdout",
     "output_type": "stream",
     "text": [
      "/Users/carina/Downloads/courses/final thesis/precessed data/ex2/volumes/volume_GPT2_keywords_YAKE15.csv\n",
      "/Users/carina/Downloads/courses/final thesis/precessed data/ex2/emvecs/emvec_BERT_keywords_YAKE15.csv\n"
     ]
    },
    {
     "name": "stderr",
     "output_type": "stream",
     "text": [
      "100%|████████████████████████████████████████| 480/480 [00:02<00:00, 164.58it/s]\n",
      "100%|████████████████████████████████████████| 480/480 [00:02<00:00, 165.20it/s]\n",
      "100%|████████████████████████████████████████| 480/480 [00:02<00:00, 164.72it/s]\n",
      "100%|████████████████████████████████████████| 480/480 [00:02<00:00, 163.21it/s]\n",
      "100%|████████████████████████████████████████| 480/480 [00:02<00:00, 164.62it/s]\n",
      "100%|████████████████████████████████████████| 480/480 [00:02<00:00, 164.74it/s]\n"
     ]
    },
    {
     "name": "stdout",
     "output_type": "stream",
     "text": [
      "/Users/carina/Downloads/courses/final thesis/precessed data/ex2/volumes/volume_BERT_keywords_YAKE15.csv\n",
      "/Users/carina/Downloads/courses/final thesis/precessed data/ex2/emvecs/emvec_GPT2_keywords_YAKE10.csv\n"
     ]
    },
    {
     "name": "stderr",
     "output_type": "stream",
     "text": [
      "100%|████████████████████████████████████████| 480/480 [00:01<00:00, 306.58it/s]\n",
      "100%|████████████████████████████████████████| 480/480 [00:01<00:00, 306.80it/s]\n",
      "100%|████████████████████████████████████████| 480/480 [00:01<00:00, 305.80it/s]\n",
      "100%|████████████████████████████████████████| 480/480 [00:01<00:00, 304.85it/s]\n",
      "100%|████████████████████████████████████████| 480/480 [00:01<00:00, 306.72it/s]\n",
      "100%|████████████████████████████████████████| 480/480 [00:01<00:00, 306.42it/s]\n"
     ]
    },
    {
     "name": "stdout",
     "output_type": "stream",
     "text": [
      "/Users/carina/Downloads/courses/final thesis/precessed data/ex2/volumes/volume_GPT2_keywords_YAKE10.csv\n",
      "/Users/carina/Downloads/courses/final thesis/precessed data/ex2/emvecs/emvec_BERT_keywords_YAKE10.csv\n"
     ]
    },
    {
     "name": "stderr",
     "output_type": "stream",
     "text": [
      "100%|████████████████████████████████████████| 480/480 [00:01<00:00, 305.54it/s]\n",
      "100%|████████████████████████████████████████| 480/480 [00:01<00:00, 283.53it/s]\n",
      "100%|████████████████████████████████████████| 480/480 [00:01<00:00, 299.93it/s]\n",
      "100%|████████████████████████████████████████| 480/480 [00:01<00:00, 306.21it/s]\n",
      "100%|████████████████████████████████████████| 480/480 [00:01<00:00, 304.16it/s]\n",
      "100%|████████████████████████████████████████| 480/480 [00:01<00:00, 305.93it/s]\n"
     ]
    },
    {
     "name": "stdout",
     "output_type": "stream",
     "text": [
      "/Users/carina/Downloads/courses/final thesis/precessed data/ex2/volumes/volume_BERT_keywords_YAKE10.csv\n",
      "/Users/carina/Downloads/courses/final thesis/precessed data/ex2/emvecs/emvec_GPT2_keywords_YAKE5.csv\n"
     ]
    },
    {
     "name": "stderr",
     "output_type": "stream",
     "text": [
      "100%|████████████████████████████████████████| 480/480 [00:00<00:00, 566.74it/s]\n",
      "100%|████████████████████████████████████████| 480/480 [00:00<00:00, 567.20it/s]\n",
      "100%|████████████████████████████████████████| 480/480 [00:00<00:00, 564.60it/s]\n",
      "100%|████████████████████████████████████████| 480/480 [00:00<00:00, 566.70it/s]\n",
      "100%|████████████████████████████████████████| 480/480 [00:00<00:00, 564.89it/s]\n",
      "100%|████████████████████████████████████████| 480/480 [00:00<00:00, 564.64it/s]\n"
     ]
    },
    {
     "name": "stdout",
     "output_type": "stream",
     "text": [
      "/Users/carina/Downloads/courses/final thesis/precessed data/ex2/volumes/volume_GPT2_keywords_YAKE5.csv\n",
      "/Users/carina/Downloads/courses/final thesis/precessed data/ex2/emvecs/emvec_BERT_keywords_YAKE5.csv\n"
     ]
    },
    {
     "name": "stderr",
     "output_type": "stream",
     "text": [
      "100%|████████████████████████████████████████| 480/480 [00:00<00:00, 570.05it/s]\n",
      "100%|████████████████████████████████████████| 480/480 [00:00<00:00, 570.22it/s]\n"
     ]
    },
    {
     "name": "stdout",
     "output_type": "stream",
     "text": [
      "432\n",
      "433\n"
     ]
    },
    {
     "name": "stderr",
     "output_type": "stream",
     "text": [
      "100%|████████████████████████████████████████| 480/480 [00:00<00:00, 573.65it/s]\n",
      "100%|████████████████████████████████████████| 480/480 [00:00<00:00, 573.24it/s]\n",
      "100%|████████████████████████████████████████| 480/480 [00:00<00:00, 568.47it/s]\n",
      "100%|████████████████████████████████████████| 480/480 [00:00<00:00, 569.20it/s]\n"
     ]
    },
    {
     "name": "stdout",
     "output_type": "stream",
     "text": [
      "/Users/carina/Downloads/courses/final thesis/precessed data/ex2/volumes/volume_BERT_keywords_YAKE5.csv\n",
      "/Users/carina/Downloads/courses/final thesis/precessed data/ex2/emvecs/emvec_BERT_keywords_tfidf10.csv\n"
     ]
    },
    {
     "name": "stderr",
     "output_type": "stream",
     "text": [
      "100%|████████████████████████████████████████| 480/480 [00:01<00:00, 305.63it/s]\n",
      "100%|████████████████████████████████████████| 480/480 [00:01<00:00, 304.48it/s]\n",
      "100%|████████████████████████████████████████| 480/480 [00:01<00:00, 305.27it/s]\n",
      "100%|████████████████████████████████████████| 480/480 [00:01<00:00, 304.18it/s]\n",
      "100%|████████████████████████████████████████| 480/480 [00:01<00:00, 299.22it/s]\n",
      "100%|████████████████████████████████████████| 480/480 [00:01<00:00, 301.14it/s]\n"
     ]
    },
    {
     "name": "stdout",
     "output_type": "stream",
     "text": [
      "/Users/carina/Downloads/courses/final thesis/precessed data/ex2/volumes/volume_BERT_keywords_tfidf10.csv\n",
      "/Users/carina/Downloads/courses/final thesis/precessed data/ex2/emvecs/emvec_BERT_keywords_tfidf15.csv\n"
     ]
    },
    {
     "name": "stderr",
     "output_type": "stream",
     "text": [
      "100%|████████████████████████████████████████| 480/480 [00:02<00:00, 164.33it/s]\n",
      "100%|████████████████████████████████████████| 480/480 [00:02<00:00, 165.70it/s]\n",
      "100%|████████████████████████████████████████| 480/480 [00:02<00:00, 164.53it/s]\n",
      "100%|████████████████████████████████████████| 480/480 [00:02<00:00, 164.33it/s]\n",
      "100%|████████████████████████████████████████| 480/480 [00:02<00:00, 164.05it/s]\n",
      "100%|████████████████████████████████████████| 480/480 [00:02<00:00, 164.80it/s]\n"
     ]
    },
    {
     "name": "stdout",
     "output_type": "stream",
     "text": [
      "/Users/carina/Downloads/courses/final thesis/precessed data/ex2/volumes/volume_BERT_keywords_tfidf15.csv\n",
      "/Users/carina/Downloads/courses/final thesis/precessed data/ex2/emvecs/emvec_GPT2_keywords_tfidf5.csv\n"
     ]
    },
    {
     "name": "stderr",
     "output_type": "stream",
     "text": [
      "100%|████████████████████████████████████████| 480/480 [00:00<00:00, 557.46it/s]\n",
      "100%|████████████████████████████████████████| 480/480 [00:00<00:00, 561.84it/s]\n",
      "100%|████████████████████████████████████████| 480/480 [00:00<00:00, 561.23it/s]\n",
      " 57%|██████████████████████▉                 | 275/480 [00:00<00:00, 504.24it/s]"
     ]
    },
    {
     "name": "stdout",
     "output_type": "stream",
     "text": [
      "219\n"
     ]
    },
    {
     "name": "stderr",
     "output_type": "stream",
     "text": [
      "100%|████████████████████████████████████████| 480/480 [00:00<00:00, 514.49it/s]\n",
      "100%|████████████████████████████████████████| 480/480 [00:00<00:00, 533.93it/s]\n",
      "100%|████████████████████████████████████████| 480/480 [00:00<00:00, 516.33it/s]\n"
     ]
    },
    {
     "name": "stdout",
     "output_type": "stream",
     "text": [
      "/Users/carina/Downloads/courses/final thesis/precessed data/ex2/volumes/volume_GPT2_keywords_tfidf5.csv\n",
      "/Users/carina/Downloads/courses/final thesis/precessed data/ex2/emvecs/emvec_BERT_keywords_tfidf5.csv\n"
     ]
    },
    {
     "name": "stderr",
     "output_type": "stream",
     "text": [
      "100%|████████████████████████████████████████| 480/480 [00:00<00:00, 525.94it/s]\n",
      "100%|████████████████████████████████████████| 480/480 [00:00<00:00, 561.04it/s]\n",
      "100%|████████████████████████████████████████| 480/480 [00:00<00:00, 551.83it/s]\n",
      "100%|████████████████████████████████████████| 480/480 [00:00<00:00, 568.20it/s]\n",
      "100%|████████████████████████████████████████| 480/480 [00:00<00:00, 572.03it/s]\n",
      "100%|████████████████████████████████████████| 480/480 [00:00<00:00, 574.02it/s]"
     ]
    },
    {
     "name": "stdout",
     "output_type": "stream",
     "text": [
      "/Users/carina/Downloads/courses/final thesis/precessed data/ex2/volumes/volume_BERT_keywords_tfidf5.csv\n"
     ]
    },
    {
     "name": "stderr",
     "output_type": "stream",
     "text": [
      "\n"
     ]
    }
   ],
   "source": [
    "base = '/Users/carina/Downloads/courses/final thesis/precessed data/ex2/emvecs/'\n",
    "\n",
    "for root, ds, fs in os.walk(base):\n",
    "    for f in fs:\n",
    "        if f != '.DS_Store' :\n",
    "            fullpath = os.path.join(root, f)\n",
    "            print(fullpath)\n",
    "            df = pd.read_csv(fullpath)\n",
    "            df = df.drop(df.columns[0],axis=1)\n",
    "            heads = df.columns.values.tolist()\n",
    "\n",
    "            all_volume = pd.DataFrame()\n",
    "            for head in heads:\n",
    "                allvectors = df[head].tolist()\n",
    "                length = len(allvectors)\n",
    "\n",
    "                volumes = []\n",
    "                for i in tqdm(range(length)):\n",
    "                    vectors = allvectors[i]\n",
    "                    vectors = vectors.strip(\"[\").strip(\"]\").split('array')\n",
    "                    numofvec = len(vectors)\n",
    "                    vectors = vectors[1:numofvec]\n",
    "                    vectors = get_float_GPT2BERT_vector(vectors)\n",
    "\n",
    "                    try :\n",
    "                        volume = get_convex_hull_volume(vectors)\n",
    "                    except :\n",
    "                        volume = 0.0\n",
    "                        print(i)\n",
    "                    volumes.append(volume)\n",
    "\n",
    "                all_volume[head] = volumes\n",
    "\n",
    "            filename = str(f)[6:]\n",
    "            resultsfolder = '/Users/carina/Downloads/courses/final thesis/precessed data/ex2/volumes/'\n",
    "\n",
    "            func = 'volume_'\n",
    "            filenames = func + filename\n",
    "            resultspath = os.path.join(resultsfolder, filenames)\n",
    "            print(resultspath)\n",
    "            all_volume.to_csv(resultspath)"
   ]
  }
 ],
 "metadata": {
  "kernelspec": {
   "display_name": "Python 3 (ipykernel)",
   "language": "python",
   "name": "python3"
  },
  "language_info": {
   "codemirror_mode": {
    "name": "ipython",
    "version": 3
   },
   "file_extension": ".py",
   "mimetype": "text/x-python",
   "name": "python",
   "nbconvert_exporter": "python",
   "pygments_lexer": "ipython3",
   "version": "3.8.3"
  },
  "toc": {
   "base_numbering": 1,
   "nav_menu": {},
   "number_sections": true,
   "sideBar": true,
   "skip_h1_title": false,
   "title_cell": "Table of Contents",
   "title_sidebar": "Contents",
   "toc_cell": false,
   "toc_position": {},
   "toc_section_display": true,
   "toc_window_display": false
  }
 },
 "nbformat": 4,
 "nbformat_minor": 5
}
