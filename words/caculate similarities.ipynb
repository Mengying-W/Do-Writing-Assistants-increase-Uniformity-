{
 "cells": [
  {
   "cell_type": "code",
   "execution_count": 51,
   "id": "ab465b58",
   "metadata": {
    "ExecuteTime": {
     "end_time": "2023-04-30T22:31:23.518776Z",
     "start_time": "2023-04-30T22:31:23.514897Z"
    }
   },
   "outputs": [],
   "source": [
    "import numpy as np\n",
    "import pandas as pd\n",
    "from sklearn import preprocessing\n",
    "import os\n",
    "from tqdm import tqdm"
   ]
  },
  {
   "cell_type": "code",
   "execution_count": null,
   "id": "b01b6797",
   "metadata": {},
   "outputs": [],
   "source": [
    "all_volume = pd.DataFrame()\n",
    "for head in heads:\n",
    "    allvectors = df_allvectors[head].tolist()\n",
    "    length = len(allvectors)\n",
    "    \n",
    "    volumes = []\n",
    "    for i in tqdm(range(length)):\n",
    "        vectors = allvectors[i]\n",
    "        vectors = vectors.strip(\"[\").strip(\"]\").split('array')\n",
    "        numofvec = len(vectors)\n",
    "        vectors = vectors[1:numofvec]\n",
    "        vectors = get_float_GPT2BERT_vector(vectors)\n",
    "        \n",
    "        volume = get_convex_hull_volume(vectors)\n",
    "        \n",
    "        volumes.append(volume)\n",
    "\n",
    "        #Print the results\n",
    "        #print(\"Medoids:\\n\", medoids)\n",
    "    all_volume[head] = volumes"
   ]
  },
  {
   "cell_type": "code",
   "execution_count": 64,
   "id": "795b7932",
   "metadata": {
    "ExecuteTime": {
     "end_time": "2023-04-30T23:01:08.408773Z",
     "start_time": "2023-04-30T23:00:32.827561Z"
    }
   },
   "outputs": [
    {
     "name": "stdout",
     "output_type": "stream",
     "text": [
      "/Users/carina/Downloads/courses/final thesis/precessed data/ex2/central points/central_emvec_GPT2_tfidf5.csv\n"
     ]
    },
    {
     "name": "stderr",
     "output_type": "stream",
     "text": [
      "100%|███████████████████████████████████████| 480/480 [00:00<00:00, 1431.10it/s]\n",
      "100%|███████████████████████████████████████| 480/480 [00:00<00:00, 1423.15it/s]\n",
      "100%|███████████████████████████████████████| 480/480 [00:00<00:00, 1318.28it/s]\n",
      "100%|███████████████████████████████████████| 480/480 [00:00<00:00, 1376.96it/s]\n",
      "100%|███████████████████████████████████████| 480/480 [00:00<00:00, 1351.89it/s]\n",
      "100%|███████████████████████████████████████| 480/480 [00:00<00:00, 1430.54it/s]\n",
      "/var/folders/_v/d4r0shvx77l1pjb78kppgd1c0000gn/T/ipykernel_22708/410522140.py:47: RuntimeWarning: invalid value encountered in true_divide\n",
      "  euc1 = (euc - np.mean(euc)) / np.std(euc)\n",
      "/var/folders/_v/d4r0shvx77l1pjb78kppgd1c0000gn/T/ipykernel_22708/410522140.py:40: RuntimeWarning: invalid value encountered in double_scalars\n",
      "  cosine_sim = np.dot(i, j) / (np.linalg.norm(i) * np.linalg.norm(j))\n"
     ]
    },
    {
     "name": "stdout",
     "output_type": "stream",
     "text": [
      "/Users/carina/Downloads/courses/final thesis/precessed data/ex2/similarity/cos_GPT2_tfidf5.csv\n",
      "/Users/carina/Downloads/courses/final thesis/precessed data/ex2/similarity/euc1_GPT2_tfidf5.csv\n",
      "/Users/carina/Downloads/courses/final thesis/precessed data/ex2/similarity/euc_GPT2_tfidf5.csv\n",
      "/Users/carina/Downloads/courses/final thesis/precessed data/ex2/central points/central_emvec_BERT_tfidf5.csv\n"
     ]
    },
    {
     "name": "stderr",
     "output_type": "stream",
     "text": [
      "100%|███████████████████████████████████████| 480/480 [00:00<00:00, 1519.39it/s]\n",
      "100%|███████████████████████████████████████| 480/480 [00:00<00:00, 1406.44it/s]\n",
      "100%|███████████████████████████████████████| 480/480 [00:00<00:00, 1429.17it/s]\n",
      "100%|███████████████████████████████████████| 480/480 [00:00<00:00, 1431.12it/s]\n",
      "100%|███████████████████████████████████████| 480/480 [00:00<00:00, 1412.22it/s]\n",
      "100%|███████████████████████████████████████| 480/480 [00:00<00:00, 1370.69it/s]\n",
      "/var/folders/_v/d4r0shvx77l1pjb78kppgd1c0000gn/T/ipykernel_22708/410522140.py:47: RuntimeWarning: invalid value encountered in true_divide\n",
      "  euc1 = (euc - np.mean(euc)) / np.std(euc)\n"
     ]
    },
    {
     "name": "stdout",
     "output_type": "stream",
     "text": [
      "/Users/carina/Downloads/courses/final thesis/precessed data/ex2/similarity/cos_BERT_tfidf5.csv\n",
      "/Users/carina/Downloads/courses/final thesis/precessed data/ex2/similarity/euc1_BERT_tfidf5.csv\n",
      "/Users/carina/Downloads/courses/final thesis/precessed data/ex2/similarity/euc_BERT_tfidf5.csv\n",
      "/Users/carina/Downloads/courses/final thesis/precessed data/ex2/central points/central_emvec_GPT2_tfidf15.csv\n"
     ]
    },
    {
     "name": "stderr",
     "output_type": "stream",
     "text": [
      "100%|███████████████████████████████████████| 480/480 [00:00<00:00, 1447.22it/s]\n",
      "100%|███████████████████████████████████████| 480/480 [00:00<00:00, 1411.66it/s]\n",
      "100%|███████████████████████████████████████| 480/480 [00:00<00:00, 1448.51it/s]\n",
      "100%|███████████████████████████████████████| 480/480 [00:00<00:00, 1460.14it/s]\n",
      "100%|███████████████████████████████████████| 480/480 [00:00<00:00, 1383.90it/s]\n",
      "100%|███████████████████████████████████████| 480/480 [00:00<00:00, 1461.21it/s]\n",
      "/var/folders/_v/d4r0shvx77l1pjb78kppgd1c0000gn/T/ipykernel_22708/410522140.py:47: RuntimeWarning: invalid value encountered in true_divide\n",
      "  euc1 = (euc - np.mean(euc)) / np.std(euc)\n"
     ]
    },
    {
     "name": "stdout",
     "output_type": "stream",
     "text": [
      "/Users/carina/Downloads/courses/final thesis/precessed data/ex2/similarity/cos_GPT2_tfidf15.csv\n",
      "/Users/carina/Downloads/courses/final thesis/precessed data/ex2/similarity/euc1_GPT2_tfidf15.csv\n",
      "/Users/carina/Downloads/courses/final thesis/precessed data/ex2/similarity/euc_GPT2_tfidf15.csv\n",
      "/Users/carina/Downloads/courses/final thesis/precessed data/ex2/central points/central_emvec_GPT2_YAKE5.csv\n"
     ]
    },
    {
     "name": "stderr",
     "output_type": "stream",
     "text": [
      "100%|███████████████████████████████████████| 480/480 [00:00<00:00, 1480.89it/s]\n",
      "100%|███████████████████████████████████████| 480/480 [00:00<00:00, 1459.00it/s]\n",
      "100%|███████████████████████████████████████| 480/480 [00:00<00:00, 1366.56it/s]\n",
      "100%|███████████████████████████████████████| 480/480 [00:00<00:00, 1360.05it/s]\n",
      "100%|███████████████████████████████████████| 480/480 [00:00<00:00, 1360.36it/s]\n",
      "100%|███████████████████████████████████████| 480/480 [00:00<00:00, 1364.86it/s]\n",
      "/var/folders/_v/d4r0shvx77l1pjb78kppgd1c0000gn/T/ipykernel_22708/410522140.py:47: RuntimeWarning: invalid value encountered in true_divide\n",
      "  euc1 = (euc - np.mean(euc)) / np.std(euc)\n"
     ]
    },
    {
     "name": "stdout",
     "output_type": "stream",
     "text": [
      "/Users/carina/Downloads/courses/final thesis/precessed data/ex2/similarity/cos_GPT2_YAKE5.csv\n",
      "/Users/carina/Downloads/courses/final thesis/precessed data/ex2/similarity/euc1_GPT2_YAKE5.csv\n",
      "/Users/carina/Downloads/courses/final thesis/precessed data/ex2/similarity/euc_GPT2_YAKE5.csv\n",
      "/Users/carina/Downloads/courses/final thesis/precessed data/ex2/central points/central_emvec_GPT2_tfidf10.csv\n"
     ]
    },
    {
     "name": "stderr",
     "output_type": "stream",
     "text": [
      "100%|███████████████████████████████████████| 480/480 [00:00<00:00, 1462.65it/s]\n",
      "100%|███████████████████████████████████████| 480/480 [00:00<00:00, 1403.28it/s]\n",
      "100%|███████████████████████████████████████| 480/480 [00:00<00:00, 1372.51it/s]\n",
      "100%|███████████████████████████████████████| 480/480 [00:00<00:00, 1453.65it/s]\n",
      "100%|███████████████████████████████████████| 480/480 [00:00<00:00, 1418.30it/s]\n",
      "100%|███████████████████████████████████████| 480/480 [00:00<00:00, 1433.20it/s]\n",
      "/var/folders/_v/d4r0shvx77l1pjb78kppgd1c0000gn/T/ipykernel_22708/410522140.py:47: RuntimeWarning: invalid value encountered in true_divide\n",
      "  euc1 = (euc - np.mean(euc)) / np.std(euc)\n"
     ]
    },
    {
     "name": "stdout",
     "output_type": "stream",
     "text": [
      "/Users/carina/Downloads/courses/final thesis/precessed data/ex2/similarity/cos_GPT2_tfidf10.csv\n",
      "/Users/carina/Downloads/courses/final thesis/precessed data/ex2/similarity/euc1_GPT2_tfidf10.csv\n",
      "/Users/carina/Downloads/courses/final thesis/precessed data/ex2/similarity/euc_GPT2_tfidf10.csv\n",
      "/Users/carina/Downloads/courses/final thesis/precessed data/ex2/central points/central_emvec_BERT_YAKE15.csv\n"
     ]
    },
    {
     "name": "stderr",
     "output_type": "stream",
     "text": [
      "100%|███████████████████████████████████████| 480/480 [00:00<00:00, 1477.15it/s]\n",
      "100%|███████████████████████████████████████| 480/480 [00:00<00:00, 1471.13it/s]\n",
      "100%|███████████████████████████████████████| 480/480 [00:00<00:00, 1469.36it/s]\n",
      "100%|███████████████████████████████████████| 480/480 [00:00<00:00, 1460.98it/s]\n",
      "100%|███████████████████████████████████████| 480/480 [00:00<00:00, 1356.41it/s]\n",
      "100%|███████████████████████████████████████| 480/480 [00:00<00:00, 1476.01it/s]\n",
      "/var/folders/_v/d4r0shvx77l1pjb78kppgd1c0000gn/T/ipykernel_22708/410522140.py:47: RuntimeWarning: invalid value encountered in true_divide\n",
      "  euc1 = (euc - np.mean(euc)) / np.std(euc)\n"
     ]
    },
    {
     "name": "stdout",
     "output_type": "stream",
     "text": [
      "/Users/carina/Downloads/courses/final thesis/precessed data/ex2/similarity/cos_BERT_YAKE15.csv\n",
      "/Users/carina/Downloads/courses/final thesis/precessed data/ex2/similarity/euc1_BERT_YAKE15.csv\n",
      "/Users/carina/Downloads/courses/final thesis/precessed data/ex2/similarity/euc_BERT_YAKE15.csv\n",
      "/Users/carina/Downloads/courses/final thesis/precessed data/ex2/central points/central_emvec_GPT2_YAKE15.csv\n"
     ]
    },
    {
     "name": "stderr",
     "output_type": "stream",
     "text": [
      "100%|███████████████████████████████████████| 480/480 [00:00<00:00, 1502.54it/s]\n",
      "100%|███████████████████████████████████████| 480/480 [00:00<00:00, 1412.25it/s]\n",
      "100%|███████████████████████████████████████| 480/480 [00:00<00:00, 1398.45it/s]\n",
      "100%|███████████████████████████████████████| 480/480 [00:00<00:00, 1461.01it/s]\n",
      "100%|███████████████████████████████████████| 480/480 [00:00<00:00, 1412.10it/s]\n",
      "100%|███████████████████████████████████████| 480/480 [00:00<00:00, 1419.81it/s]\n",
      "/var/folders/_v/d4r0shvx77l1pjb78kppgd1c0000gn/T/ipykernel_22708/410522140.py:47: RuntimeWarning: invalid value encountered in true_divide\n",
      "  euc1 = (euc - np.mean(euc)) / np.std(euc)\n"
     ]
    },
    {
     "name": "stdout",
     "output_type": "stream",
     "text": [
      "/Users/carina/Downloads/courses/final thesis/precessed data/ex2/similarity/cos_GPT2_YAKE15.csv\n",
      "/Users/carina/Downloads/courses/final thesis/precessed data/ex2/similarity/euc1_GPT2_YAKE15.csv\n",
      "/Users/carina/Downloads/courses/final thesis/precessed data/ex2/similarity/euc_GPT2_YAKE15.csv\n",
      "/Users/carina/Downloads/courses/final thesis/precessed data/ex2/central points/central_emvec_GPT2_YAKE10.csv\n"
     ]
    },
    {
     "name": "stderr",
     "output_type": "stream",
     "text": [
      "100%|███████████████████████████████████████| 480/480 [00:00<00:00, 1397.38it/s]\n",
      "100%|███████████████████████████████████████| 480/480 [00:00<00:00, 1448.69it/s]\n",
      "100%|███████████████████████████████████████| 480/480 [00:00<00:00, 1438.79it/s]\n",
      "100%|███████████████████████████████████████| 480/480 [00:00<00:00, 1383.34it/s]\n",
      "100%|███████████████████████████████████████| 480/480 [00:00<00:00, 1387.34it/s]\n",
      "100%|███████████████████████████████████████| 480/480 [00:00<00:00, 1419.65it/s]\n",
      "/var/folders/_v/d4r0shvx77l1pjb78kppgd1c0000gn/T/ipykernel_22708/410522140.py:47: RuntimeWarning: invalid value encountered in true_divide\n",
      "  euc1 = (euc - np.mean(euc)) / np.std(euc)\n"
     ]
    },
    {
     "name": "stdout",
     "output_type": "stream",
     "text": [
      "/Users/carina/Downloads/courses/final thesis/precessed data/ex2/similarity/cos_GPT2_YAKE10.csv\n",
      "/Users/carina/Downloads/courses/final thesis/precessed data/ex2/similarity/euc1_GPT2_YAKE10.csv\n",
      "/Users/carina/Downloads/courses/final thesis/precessed data/ex2/similarity/euc_GPT2_YAKE10.csv\n",
      "/Users/carina/Downloads/courses/final thesis/precessed data/ex2/central points/central_emvec_BERT_YAKE10.csv\n"
     ]
    },
    {
     "name": "stderr",
     "output_type": "stream",
     "text": [
      "100%|███████████████████████████████████████| 480/480 [00:00<00:00, 1454.48it/s]\n",
      "100%|███████████████████████████████████████| 480/480 [00:00<00:00, 1404.19it/s]\n",
      "100%|███████████████████████████████████████| 480/480 [00:00<00:00, 1418.31it/s]\n",
      "100%|███████████████████████████████████████| 480/480 [00:00<00:00, 1430.23it/s]\n",
      "100%|███████████████████████████████████████| 480/480 [00:00<00:00, 1348.98it/s]\n",
      "100%|███████████████████████████████████████| 480/480 [00:00<00:00, 1429.78it/s]\n",
      "/var/folders/_v/d4r0shvx77l1pjb78kppgd1c0000gn/T/ipykernel_22708/410522140.py:47: RuntimeWarning: invalid value encountered in true_divide\n",
      "  euc1 = (euc - np.mean(euc)) / np.std(euc)\n"
     ]
    },
    {
     "name": "stdout",
     "output_type": "stream",
     "text": [
      "/Users/carina/Downloads/courses/final thesis/precessed data/ex2/similarity/cos_BERT_YAKE10.csv\n",
      "/Users/carina/Downloads/courses/final thesis/precessed data/ex2/similarity/euc1_BERT_YAKE10.csv\n",
      "/Users/carina/Downloads/courses/final thesis/precessed data/ex2/similarity/euc_BERT_YAKE10.csv\n",
      "/Users/carina/Downloads/courses/final thesis/precessed data/ex2/central points/central_emvec_BERT_tfidf10.csv\n"
     ]
    },
    {
     "name": "stderr",
     "output_type": "stream",
     "text": [
      "100%|███████████████████████████████████████| 480/480 [00:00<00:00, 1528.24it/s]\n",
      "100%|███████████████████████████████████████| 480/480 [00:00<00:00, 1414.33it/s]\n",
      "100%|███████████████████████████████████████| 480/480 [00:00<00:00, 1473.35it/s]\n",
      "100%|███████████████████████████████████████| 480/480 [00:00<00:00, 1460.16it/s]\n",
      "100%|███████████████████████████████████████| 480/480 [00:00<00:00, 1397.44it/s]\n",
      "100%|███████████████████████████████████████| 480/480 [00:00<00:00, 1426.34it/s]\n",
      "/var/folders/_v/d4r0shvx77l1pjb78kppgd1c0000gn/T/ipykernel_22708/410522140.py:47: RuntimeWarning: invalid value encountered in true_divide\n",
      "  euc1 = (euc - np.mean(euc)) / np.std(euc)\n"
     ]
    },
    {
     "name": "stdout",
     "output_type": "stream",
     "text": [
      "/Users/carina/Downloads/courses/final thesis/precessed data/ex2/similarity/cos_BERT_tfidf10.csv\n",
      "/Users/carina/Downloads/courses/final thesis/precessed data/ex2/similarity/euc1_BERT_tfidf10.csv\n",
      "/Users/carina/Downloads/courses/final thesis/precessed data/ex2/similarity/euc_BERT_tfidf10.csv\n",
      "/Users/carina/Downloads/courses/final thesis/precessed data/ex2/central points/central_emvec_BERT_allwords.csv\n"
     ]
    },
    {
     "name": "stderr",
     "output_type": "stream",
     "text": [
      "100%|███████████████████████████████████████| 480/480 [00:00<00:00, 1437.97it/s]\n",
      "100%|███████████████████████████████████████| 480/480 [00:00<00:00, 1421.71it/s]\n",
      "100%|███████████████████████████████████████| 480/480 [00:00<00:00, 1476.42it/s]\n",
      "100%|███████████████████████████████████████| 480/480 [00:00<00:00, 1418.94it/s]\n",
      "100%|███████████████████████████████████████| 480/480 [00:00<00:00, 1439.10it/s]\n",
      "100%|███████████████████████████████████████| 480/480 [00:00<00:00, 1461.08it/s]\n",
      "/var/folders/_v/d4r0shvx77l1pjb78kppgd1c0000gn/T/ipykernel_22708/410522140.py:47: RuntimeWarning: invalid value encountered in true_divide\n",
      "  euc1 = (euc - np.mean(euc)) / np.std(euc)\n"
     ]
    },
    {
     "name": "stdout",
     "output_type": "stream",
     "text": [
      "/Users/carina/Downloads/courses/final thesis/precessed data/ex2/similarity/cos_BERT_allwords.csv\n",
      "/Users/carina/Downloads/courses/final thesis/precessed data/ex2/similarity/euc1_BERT_allwords.csv\n",
      "/Users/carina/Downloads/courses/final thesis/precessed data/ex2/similarity/euc_BERT_allwords.csv\n",
      "/Users/carina/Downloads/courses/final thesis/precessed data/ex2/central points/central_emvec_GPT2_allwords.csv\n"
     ]
    },
    {
     "name": "stderr",
     "output_type": "stream",
     "text": [
      "100%|███████████████████████████████████████| 480/480 [00:00<00:00, 1467.92it/s]\n",
      "100%|███████████████████████████████████████| 480/480 [00:00<00:00, 1435.69it/s]\n",
      "100%|███████████████████████████████████████| 480/480 [00:00<00:00, 1444.89it/s]\n",
      "100%|███████████████████████████████████████| 480/480 [00:00<00:00, 1412.81it/s]\n",
      "100%|███████████████████████████████████████| 480/480 [00:00<00:00, 1373.63it/s]\n",
      "100%|███████████████████████████████████████| 480/480 [00:00<00:00, 1403.91it/s]\n",
      "/var/folders/_v/d4r0shvx77l1pjb78kppgd1c0000gn/T/ipykernel_22708/410522140.py:47: RuntimeWarning: invalid value encountered in true_divide\n",
      "  euc1 = (euc - np.mean(euc)) / np.std(euc)\n"
     ]
    },
    {
     "name": "stdout",
     "output_type": "stream",
     "text": [
      "/Users/carina/Downloads/courses/final thesis/precessed data/ex2/similarity/cos_GPT2_allwords.csv\n",
      "/Users/carina/Downloads/courses/final thesis/precessed data/ex2/similarity/euc1_GPT2_allwords.csv\n",
      "/Users/carina/Downloads/courses/final thesis/precessed data/ex2/similarity/euc_GPT2_allwords.csv\n",
      "/Users/carina/Downloads/courses/final thesis/precessed data/ex2/central points/central_emvec_BERT_YAKE5.csv\n"
     ]
    },
    {
     "name": "stderr",
     "output_type": "stream",
     "text": [
      "100%|███████████████████████████████████████| 480/480 [00:00<00:00, 1480.45it/s]\n",
      "100%|███████████████████████████████████████| 480/480 [00:00<00:00, 1397.72it/s]\n",
      "100%|███████████████████████████████████████| 480/480 [00:00<00:00, 1438.05it/s]\n",
      "100%|███████████████████████████████████████| 480/480 [00:00<00:00, 1449.07it/s]\n",
      "100%|███████████████████████████████████████| 480/480 [00:00<00:00, 1423.34it/s]\n",
      "100%|███████████████████████████████████████| 480/480 [00:00<00:00, 1403.16it/s]\n",
      "/var/folders/_v/d4r0shvx77l1pjb78kppgd1c0000gn/T/ipykernel_22708/410522140.py:47: RuntimeWarning: invalid value encountered in true_divide\n",
      "  euc1 = (euc - np.mean(euc)) / np.std(euc)\n"
     ]
    },
    {
     "name": "stdout",
     "output_type": "stream",
     "text": [
      "/Users/carina/Downloads/courses/final thesis/precessed data/ex2/similarity/cos_BERT_YAKE5.csv\n",
      "/Users/carina/Downloads/courses/final thesis/precessed data/ex2/similarity/euc1_BERT_YAKE5.csv\n",
      "/Users/carina/Downloads/courses/final thesis/precessed data/ex2/similarity/euc_BERT_YAKE5.csv\n",
      "/Users/carina/Downloads/courses/final thesis/precessed data/ex2/central points/central_emvec_BERT_tfidf15.csv\n"
     ]
    },
    {
     "name": "stderr",
     "output_type": "stream",
     "text": [
      "100%|███████████████████████████████████████| 480/480 [00:00<00:00, 1534.04it/s]\n",
      "100%|███████████████████████████████████████| 480/480 [00:00<00:00, 1417.64it/s]\n",
      "100%|███████████████████████████████████████| 480/480 [00:00<00:00, 1484.72it/s]\n",
      "100%|███████████████████████████████████████| 480/480 [00:00<00:00, 1475.74it/s]\n",
      "100%|███████████████████████████████████████| 480/480 [00:00<00:00, 1415.25it/s]\n",
      "100%|███████████████████████████████████████| 480/480 [00:00<00:00, 1399.36it/s]\n",
      "/var/folders/_v/d4r0shvx77l1pjb78kppgd1c0000gn/T/ipykernel_22708/410522140.py:47: RuntimeWarning: invalid value encountered in true_divide\n",
      "  euc1 = (euc - np.mean(euc)) / np.std(euc)\n"
     ]
    },
    {
     "name": "stdout",
     "output_type": "stream",
     "text": [
      "/Users/carina/Downloads/courses/final thesis/precessed data/ex2/similarity/cos_BERT_tfidf15.csv\n",
      "/Users/carina/Downloads/courses/final thesis/precessed data/ex2/similarity/euc1_BERT_tfidf15.csv\n",
      "/Users/carina/Downloads/courses/final thesis/precessed data/ex2/similarity/euc_BERT_tfidf15.csv\n"
     ]
    }
   ],
   "source": [
    "base = '/Users/carina/Downloads/courses/final thesis/precessed data/ex2/central points/'\n",
    "for root, ds, fs in os.walk(base):\n",
    "        for f in fs:\n",
    "            fullpath = os.path.join(root, f)\n",
    "            print(fullpath)\n",
    "            df = pd.read_csv(fullpath)\n",
    "            df = df.drop(df.columns[0],axis=1)\n",
    "            heads = df.columns.values.tolist()\n",
    "            #print(df.head()\n",
    "            df_vec = pd.DataFrame()\n",
    "            for head in heads:\n",
    "                digit_value = []\n",
    "                values = df[head].tolist()\n",
    "                for indeics in tqdm(range(len(values))):\n",
    "                    value = values[indeics]\n",
    "                    value = value.strip('[').strip(']').replace('\\n','').replace('  ',' ').replace('   ',' ').split(' ')\n",
    "                    for item in value:\n",
    "                        if len(item) == 0:\n",
    "                            value.remove(item)\n",
    "                    if len(value) != 768:\n",
    "                        value = value[0:768]\n",
    "                    value = [float(x) for x in value]\n",
    "\n",
    "                    digit_value.append(value)\n",
    "                df_vec[head] = digit_value\n",
    "                \n",
    "            paragraph = df_vec['paragraph'].tolist()\n",
    "            paragraph = np.array(paragraph)\n",
    "            \n",
    "            df_cos = pd.DataFrame()\n",
    "            df_euc = pd.DataFrame()\n",
    "            df_euc1 = pd.DataFrame()\n",
    "\n",
    "            for head in heads:\n",
    "                cos = []\n",
    "                euc = []\n",
    "                digit_value = df_vec[head].tolist()\n",
    "                digit_value = np.array(digit_value)\n",
    "                for i,j in zip(paragraph,digit_value):\n",
    "                    cosine_sim = np.dot(i, j) / (np.linalg.norm(i) * np.linalg.norm(j))\n",
    "                    cos.append(cosine_sim)\n",
    "\n",
    "                    euclidean_dist = np.linalg.norm(i - j)\n",
    "                    #print(i-j)\n",
    "                    #print(np.linalg.norm(i - j))\n",
    "                    euc.append(euclidean_dist)\n",
    "                euc1 = (euc - np.mean(euc)) / np.std(euc)\n",
    "                #print(euc)\n",
    "                #euc = preprocessing.normalize(euc, norm='l2')\n",
    "                df_cos[head] = cos\n",
    "                df_euc[head] = euc\n",
    "                df_euc1[head] = euc1\n",
    "            df_cos = df_cos.drop(df_cos.columns[0],axis=1)\n",
    "            df_euc = df_euc.drop(df_euc.columns[0],axis=1)\n",
    "            df_euc1 = df_euc1.drop(df_euc1.columns[0],axis=1)\n",
    "            \n",
    "            filename = str(f)[14:]\n",
    "            resultsfolder = '/Users/carina/Downloads/courses/final thesis/precessed data/ex2/similarity/'\n",
    "            \n",
    "            func = 'cos_'\n",
    "            filenames = func + filename\n",
    "            resultspath = os.path.join(resultsfolder, filenames)\n",
    "            print(resultspath)\n",
    "            df_cos.to_csv(resultspath)\n",
    "            \n",
    "            func = 'euc1_'\n",
    "            filenames = func + filename\n",
    "            resultspath = os.path.join(resultsfolder, filenames)\n",
    "            print(resultspath)\n",
    "            df_euc1.to_csv(resultspath)\n",
    "            \n",
    "            func = 'euc_'\n",
    "            filenames = func + filename\n",
    "            resultspath = os.path.join(resultsfolder, filenames)  \n",
    "            print(resultspath)\n",
    "            df_euc.to_csv(resultspath)"
   ]
  }
 ],
 "metadata": {
  "kernelspec": {
   "display_name": "Python 3 (ipykernel)",
   "language": "python",
   "name": "python3"
  },
  "language_info": {
   "codemirror_mode": {
    "name": "ipython",
    "version": 3
   },
   "file_extension": ".py",
   "mimetype": "text/x-python",
   "name": "python",
   "nbconvert_exporter": "python",
   "pygments_lexer": "ipython3",
   "version": "3.8.3"
  },
  "toc": {
   "base_numbering": 1,
   "nav_menu": {},
   "number_sections": true,
   "sideBar": true,
   "skip_h1_title": false,
   "title_cell": "Table of Contents",
   "title_sidebar": "Contents",
   "toc_cell": false,
   "toc_position": {},
   "toc_section_display": true,
   "toc_window_display": false
  }
 },
 "nbformat": 4,
 "nbformat_minor": 5
}
