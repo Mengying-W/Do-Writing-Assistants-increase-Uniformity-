{
 "cells": [
  {
   "cell_type": "code",
   "execution_count": 49,
   "id": "b5dc9ab2",
   "metadata": {
    "ExecuteTime": {
     "end_time": "2023-03-23T01:13:17.748720Z",
     "start_time": "2023-03-23T01:13:17.745301Z"
    }
   },
   "outputs": [],
   "source": [
    "import torch\n",
    "from transformers import LongformerTokenizer, LongformerModel\n",
    "import pandas as pd\n",
    "from tqdm import tqdm"
   ]
  },
  {
   "cell_type": "code",
   "execution_count": 44,
   "id": "30e39072",
   "metadata": {
    "ExecuteTime": {
     "end_time": "2023-03-23T01:10:16.695101Z",
     "start_time": "2023-03-23T01:10:11.468378Z"
    }
   },
   "outputs": [
    {
     "name": "stderr",
     "output_type": "stream",
     "text": [
      "Some weights of the model checkpoint at allenai/longformer-base-4096 were not used when initializing LongformerModel: ['lm_head.decoder.weight', 'lm_head.layer_norm.bias', 'lm_head.dense.weight', 'lm_head.bias', 'lm_head.dense.bias', 'lm_head.layer_norm.weight']\n",
      "- This IS expected if you are initializing LongformerModel from the checkpoint of a model trained on another task or with another architecture (e.g. initializing a BertForSequenceClassification model from a BertForPreTraining model).\n",
      "- This IS NOT expected if you are initializing LongformerModel from the checkpoint of a model that you expect to be exactly identical (initializing a BertForSequenceClassification model from a BertForSequenceClassification model).\n"
     ]
    }
   ],
   "source": [
    "# Load the Longformer tokenizer and model\n",
    "tokenizer = LongformerTokenizer.from_pretrained('allenai/longformer-base-4096')\n",
    "model = LongformerModel.from_pretrained('allenai/longformer-base-4096')"
   ]
  },
  {
   "cell_type": "code",
   "execution_count": 45,
   "id": "e460fdcf",
   "metadata": {
    "ExecuteTime": {
     "end_time": "2023-03-23T01:10:18.995757Z",
     "start_time": "2023-03-23T01:10:18.989908Z"
    }
   },
   "outputs": [],
   "source": [
    "# Define a function to compute the document embedding vector\n",
    "def get_document_embedding(document):\n",
    "    # Tokenize the document and add special tokens\n",
    "    tokens = tokenizer.encode(document, add_special_tokens=True)\n",
    "    # Convert the token IDs to a PyTorch tensor\n",
    "    input_ids = torch.tensor(tokens).unsqueeze(0)  # Batch size 1\n",
    "    # Compute the document embedding vector using the Longformer model\n",
    "    outputs = model(input_ids)\n",
    "    embedding = outputs[0].squeeze().tolist()  # Remove the batch dimension\n",
    "    #embedding = outputs[0][:, -1, :].squeeze().tolist()\n",
    "    # Normalize the embedding vector to have unit length\n",
    "    #embedding /= embedding.norm()\n",
    "    doc2vec = []\n",
    "    for i in range(len(embedding[0])):\n",
    "        pos_value = 0.0\n",
    "        for item in embedding:\n",
    "            item = list(item)\n",
    "            pos_value += item[i]\n",
    "        doc2vec.append(pos_value/(len(embedding)))\n",
    "    return doc2vec\n"
   ]
  },
  {
   "cell_type": "code",
   "execution_count": 54,
   "id": "553d4910",
   "metadata": {
    "ExecuteTime": {
     "end_time": "2023-03-23T01:30:16.424167Z",
     "start_time": "2023-03-23T01:30:16.380638Z"
    }
   },
   "outputs": [],
   "source": [
    "df = pd.read_csv('/Users/carina/Downloads/courses/final thesis/dataset/annotated text.csv')"
   ]
  },
  {
   "cell_type": "code",
   "execution_count": 55,
   "id": "ed3eabc4",
   "metadata": {
    "ExecuteTime": {
     "end_time": "2023-03-23T03:05:54.083447Z",
     "start_time": "2023-03-23T01:30:17.296068Z"
    }
   },
   "outputs": [
    {
     "name": "stderr",
     "output_type": "stream",
     "text": [
      "100%|█████████████████████████████████████████| 480/480 [16:20<00:00,  2.04s/it]\n",
      "100%|█████████████████████████████████████████| 480/480 [16:24<00:00,  2.05s/it]\n",
      "100%|█████████████████████████████████████████| 480/480 [16:07<00:00,  2.01s/it]\n",
      "100%|█████████████████████████████████████████| 480/480 [15:29<00:00,  1.94s/it]\n",
      "100%|█████████████████████████████████████████| 480/480 [15:24<00:00,  1.93s/it]\n",
      "100%|█████████████████████████████████████████| 480/480 [15:50<00:00,  1.98s/it]\n"
     ]
    }
   ],
   "source": [
    "df_vec = pd.DataFrame()\n",
    "for index in df:\n",
    "    para = df[index].tolist()\n",
    "    final_vec = []\n",
    "    for i in tqdm(range(len(para))):\n",
    "        document = para[i]\n",
    "        embedding = get_document_embedding(document)\n",
    "        final_vec.append(embedding)\n",
    "    df_vec[index] = final_vec"
   ]
  },
  {
   "cell_type": "code",
   "execution_count": 57,
   "id": "aabc8c09",
   "metadata": {
    "ExecuteTime": {
     "end_time": "2023-03-23T03:07:22.070024Z",
     "start_time": "2023-03-23T03:07:19.397359Z"
    }
   },
   "outputs": [],
   "source": [
    "df_vec.to_csv('/Users/carina/Downloads/courses/final thesis/precessed data/doc2vec_longformer.csv')"
   ]
  }
 ],
 "metadata": {
  "kernelspec": {
   "display_name": "Python 3 (ipykernel)",
   "language": "python",
   "name": "python3"
  },
  "language_info": {
   "codemirror_mode": {
    "name": "ipython",
    "version": 3
   },
   "file_extension": ".py",
   "mimetype": "text/x-python",
   "name": "python",
   "nbconvert_exporter": "python",
   "pygments_lexer": "ipython3",
   "version": "3.8.3"
  },
  "toc": {
   "base_numbering": 1,
   "nav_menu": {},
   "number_sections": true,
   "sideBar": true,
   "skip_h1_title": false,
   "title_cell": "Table of Contents",
   "title_sidebar": "Contents",
   "toc_cell": false,
   "toc_position": {},
   "toc_section_display": true,
   "toc_window_display": false
  }
 },
 "nbformat": 4,
 "nbformat_minor": 5
}
