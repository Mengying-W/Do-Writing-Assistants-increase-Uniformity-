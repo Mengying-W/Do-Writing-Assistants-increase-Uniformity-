{
 "cells": [
  {
   "cell_type": "code",
   "execution_count": 1,
   "id": "ab465b58",
   "metadata": {
    "ExecuteTime": {
     "end_time": "2023-05-10T15:13:35.947645Z",
     "start_time": "2023-05-10T15:13:34.881381Z"
    }
   },
   "outputs": [],
   "source": [
    "import numpy as np\n",
    "import pandas as pd\n",
    "from sklearn import preprocessing"
   ]
  },
  {
   "cell_type": "code",
   "execution_count": 2,
   "id": "4e553dd1",
   "metadata": {
    "ExecuteTime": {
     "end_time": "2023-05-10T15:13:36.803348Z",
     "start_time": "2023-05-10T15:13:36.466621Z"
    }
   },
   "outputs": [],
   "source": [
    "df = pd.read_csv('/Users/carina/Downloads/courses/final thesis/precessed data/ex1/doc2vec_xlnet.csv')\n",
    "df = df.drop(df.columns[0],axis=1)"
   ]
  },
  {
   "cell_type": "code",
   "execution_count": 3,
   "id": "7b0d1cab",
   "metadata": {
    "ExecuteTime": {
     "end_time": "2023-05-10T15:13:38.305920Z",
     "start_time": "2023-05-10T15:13:37.480813Z"
    }
   },
   "outputs": [],
   "source": [
    "df_vec = pd.DataFrame()\n",
    "heads = df.columns.values.tolist()    # 列名称\n",
    "for index in heads:\n",
    "    digit_value = []\n",
    "    values = df[index].tolist()\n",
    "    for item in values:\n",
    "        item = item.strip('[').strip(']').split(',')\n",
    "        item = [float(x) for x in item]\n",
    "        digit_value.append(item)\n",
    "    df_vec[index] = digit_value"
   ]
  },
  {
   "cell_type": "code",
   "execution_count": 4,
   "id": "62bdea2b",
   "metadata": {
    "ExecuteTime": {
     "end_time": "2023-05-10T15:13:44.163283Z",
     "start_time": "2023-05-10T15:13:44.138466Z"
    }
   },
   "outputs": [],
   "source": [
    "paragraph = df_vec['paragraph'].tolist()\n",
    "paragraph = np.array(paragraph)"
   ]
  },
  {
   "cell_type": "code",
   "execution_count": 5,
   "id": "767a3398",
   "metadata": {
    "ExecuteTime": {
     "end_time": "2023-05-10T15:13:47.350210Z",
     "start_time": "2023-05-10T15:13:47.197998Z"
    }
   },
   "outputs": [
    {
     "name": "stderr",
     "output_type": "stream",
     "text": [
      "/var/folders/_v/d4r0shvx77l1pjb78kppgd1c0000gn/T/ipykernel_21152/2729757628.py:18: RuntimeWarning: invalid value encountered in divide\n",
      "  euc1 = (euc - np.mean(euc)) / np.std(euc)\n"
     ]
    }
   ],
   "source": [
    "df_cos = pd.DataFrame()\n",
    "df_euc = pd.DataFrame()\n",
    "df_euc1 = pd.DataFrame()\n",
    "\n",
    "for index in heads:\n",
    "    cos = []\n",
    "    euc = []\n",
    "    digit_value = df_vec[index].tolist()\n",
    "    digit_value = np.array(digit_value)\n",
    "    for i,j in zip(paragraph,digit_value):\n",
    "        cosine_sim = np.dot(i, j) / (np.linalg.norm(i) * np.linalg.norm(j))\n",
    "        cos.append(cosine_sim)\n",
    "\n",
    "        euclidean_dist = np.linalg.norm(i - j)\n",
    "        #print(i-j)\n",
    "        #print(np.linalg.norm(i - j))\n",
    "        euc.append(euclidean_dist)\n",
    "    euc1 = (euc - np.mean(euc)) / np.std(euc)\n",
    "    #print(euc)\n",
    "    #euc = preprocessing.normalize(euc, norm='l2')\n",
    "    df_cos[index] = cos\n",
    "    df_euc[index] = euc\n",
    "    df_euc1[index] = euc1\n",
    "df_cos = df_cos.drop(df_cos.columns[0],axis=1)\n",
    "df_euc = df_euc.drop(df_euc.columns[0],axis=1)\n",
    "df_euc1 = df_euc1.drop(df_euc1.columns[0],axis=1)"
   ]
  },
  {
   "cell_type": "code",
   "execution_count": 7,
   "id": "11c90a5f",
   "metadata": {
    "ExecuteTime": {
     "end_time": "2023-05-10T15:14:44.694940Z",
     "start_time": "2023-05-10T15:14:44.682204Z"
    }
   },
   "outputs": [],
   "source": [
    "#df_cos.to_csv('/Users/carina/Downloads/courses/final thesis/precessed data/doc2vec_xlnet_cos.csv')\n",
    "#df_euc1.to_csv('/Users/carina/Downloads/courses/final thesis/precessed data/doc2vec_xlnet_euc.csv')\n",
    "df_euc.to_csv('/Users/carina/Downloads/courses/final thesis/precessed data/ex1/doc2vec_xlnet_unmorlized_euc.csv')"
   ]
  },
  {
   "cell_type": "code",
   "execution_count": null,
   "id": "3a66eca4",
   "metadata": {},
   "outputs": [],
   "source": []
  }
 ],
 "metadata": {
  "kernelspec": {
   "display_name": "Python 3 (ipykernel)",
   "language": "python",
   "name": "python3"
  },
  "language_info": {
   "codemirror_mode": {
    "name": "ipython",
    "version": 3
   },
   "file_extension": ".py",
   "mimetype": "text/x-python",
   "name": "python",
   "nbconvert_exporter": "python",
   "pygments_lexer": "ipython3",
   "version": "3.8.3"
  },
  "toc": {
   "base_numbering": 1,
   "nav_menu": {},
   "number_sections": true,
   "sideBar": true,
   "skip_h1_title": false,
   "title_cell": "Table of Contents",
   "title_sidebar": "Contents",
   "toc_cell": false,
   "toc_position": {},
   "toc_section_display": true,
   "toc_window_display": false
  }
 },
 "nbformat": 4,
 "nbformat_minor": 5
}
