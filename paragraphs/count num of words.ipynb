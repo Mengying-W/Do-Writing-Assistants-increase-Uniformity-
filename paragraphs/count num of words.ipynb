{
 "cells": [
  {
   "cell_type": "code",
   "execution_count": 1,
   "id": "12f14e5f",
   "metadata": {
    "ExecuteTime": {
     "end_time": "2023-03-30T00:57:28.494465Z",
     "start_time": "2023-03-30T00:57:26.562052Z"
    }
   },
   "outputs": [],
   "source": [
    "from transformers import XLNetTokenizer, XLNetModel\n",
    "import numpy as np\n",
    "import torch\n",
    "import pandas as pd\n",
    "from tqdm import tqdm"
   ]
  },
  {
   "cell_type": "code",
   "execution_count": 2,
   "id": "babe9df0",
   "metadata": {
    "ExecuteTime": {
     "end_time": "2023-03-30T00:57:51.974763Z",
     "start_time": "2023-03-30T00:57:51.923986Z"
    }
   },
   "outputs": [],
   "source": [
    "df = pd.read_csv('/Users/carina/Downloads/courses/final thesis/dataset/annotated text.csv')"
   ]
  },
  {
   "cell_type": "code",
   "execution_count": 6,
   "id": "cdf7c598",
   "metadata": {
    "ExecuteTime": {
     "end_time": "2023-03-30T01:05:43.542152Z",
     "start_time": "2023-03-30T01:05:43.537659Z"
    }
   },
   "outputs": [],
   "source": [
    "def get_numof_words(document):\n",
    "\n",
    "    senten = document.split(' ')\n",
    "    count = len(senten)\n",
    "    #print(senten)\n",
    "    return count"
   ]
  },
  {
   "cell_type": "code",
   "execution_count": 7,
   "id": "ed5cbea4",
   "metadata": {
    "ExecuteTime": {
     "end_time": "2023-03-30T01:05:44.358447Z",
     "start_time": "2023-03-30T01:05:44.299809Z"
    }
   },
   "outputs": [
    {
     "name": "stderr",
     "output_type": "stream",
     "text": [
      "100%|██████████████████████████████████████| 480/480 [00:00<00:00, 60360.55it/s]\n",
      "100%|██████████████████████████████████████| 480/480 [00:00<00:00, 68947.46it/s]\n",
      "100%|██████████████████████████████████████| 480/480 [00:00<00:00, 81104.86it/s]\n",
      "100%|██████████████████████████████████████| 480/480 [00:00<00:00, 83694.28it/s]\n",
      "100%|██████████████████████████████████████| 480/480 [00:00<00:00, 88972.33it/s]\n",
      "100%|██████████████████████████████████████| 480/480 [00:00<00:00, 76262.96it/s]\n"
     ]
    }
   ],
   "source": [
    "df_numwords = pd.DataFrame()\n",
    "for index in df:\n",
    "    para = df[index].tolist()\n",
    "    final_num = []\n",
    "    for i in tqdm(range(len(para))):\n",
    "        document = para[i]\n",
    "        numwords = get_numof_words(document)\n",
    "        final_num.append(numwords)\n",
    "    df_numwords[index] = final_num"
   ]
  },
  {
   "cell_type": "code",
   "execution_count": 8,
   "id": "f1eee73c",
   "metadata": {
    "ExecuteTime": {
     "end_time": "2023-03-30T01:06:21.802741Z",
     "start_time": "2023-03-30T01:06:21.794139Z"
    }
   },
   "outputs": [],
   "source": [
    "df_numwords.to_csv('/Users/carina/Downloads/courses/final thesis/precessed data/numOfwords.csv')"
   ]
  },
  {
   "cell_type": "code",
   "execution_count": 9,
   "id": "7cc4cf2a",
   "metadata": {
    "ExecuteTime": {
     "end_time": "2023-03-30T01:06:25.622495Z",
     "start_time": "2023-03-30T01:06:25.602006Z"
    }
   },
   "outputs": [
    {
     "data": {
      "text/html": [
       "<div>\n",
       "<style scoped>\n",
       "    .dataframe tbody tr th:only-of-type {\n",
       "        vertical-align: middle;\n",
       "    }\n",
       "\n",
       "    .dataframe tbody tr th {\n",
       "        vertical-align: top;\n",
       "    }\n",
       "\n",
       "    .dataframe thead th {\n",
       "        text-align: right;\n",
       "    }\n",
       "</style>\n",
       "<table border=\"1\" class=\"dataframe\">\n",
       "  <thead>\n",
       "    <tr style=\"text-align: right;\">\n",
       "      <th></th>\n",
       "      <th>paragraph</th>\n",
       "      <th>rephrase</th>\n",
       "      <th>Grammerly</th>\n",
       "      <th>chatgpt</th>\n",
       "      <th>Wordtune</th>\n",
       "      <th>Quillbot</th>\n",
       "    </tr>\n",
       "  </thead>\n",
       "  <tbody>\n",
       "    <tr>\n",
       "      <th>0</th>\n",
       "      <td>170</td>\n",
       "      <td>187</td>\n",
       "      <td>168</td>\n",
       "      <td>154</td>\n",
       "      <td>164</td>\n",
       "      <td>169</td>\n",
       "    </tr>\n",
       "    <tr>\n",
       "      <th>1</th>\n",
       "      <td>173</td>\n",
       "      <td>195</td>\n",
       "      <td>162</td>\n",
       "      <td>169</td>\n",
       "      <td>156</td>\n",
       "      <td>182</td>\n",
       "    </tr>\n",
       "    <tr>\n",
       "      <th>2</th>\n",
       "      <td>168</td>\n",
       "      <td>176</td>\n",
       "      <td>169</td>\n",
       "      <td>170</td>\n",
       "      <td>147</td>\n",
       "      <td>159</td>\n",
       "    </tr>\n",
       "    <tr>\n",
       "      <th>3</th>\n",
       "      <td>177</td>\n",
       "      <td>190</td>\n",
       "      <td>173</td>\n",
       "      <td>166</td>\n",
       "      <td>160</td>\n",
       "      <td>166</td>\n",
       "    </tr>\n",
       "    <tr>\n",
       "      <th>4</th>\n",
       "      <td>165</td>\n",
       "      <td>173</td>\n",
       "      <td>164</td>\n",
       "      <td>154</td>\n",
       "      <td>139</td>\n",
       "      <td>164</td>\n",
       "    </tr>\n",
       "    <tr>\n",
       "      <th>...</th>\n",
       "      <td>...</td>\n",
       "      <td>...</td>\n",
       "      <td>...</td>\n",
       "      <td>...</td>\n",
       "      <td>...</td>\n",
       "      <td>...</td>\n",
       "    </tr>\n",
       "    <tr>\n",
       "      <th>475</th>\n",
       "      <td>99</td>\n",
       "      <td>108</td>\n",
       "      <td>98</td>\n",
       "      <td>111</td>\n",
       "      <td>91</td>\n",
       "      <td>98</td>\n",
       "    </tr>\n",
       "    <tr>\n",
       "      <th>476</th>\n",
       "      <td>91</td>\n",
       "      <td>96</td>\n",
       "      <td>85</td>\n",
       "      <td>105</td>\n",
       "      <td>73</td>\n",
       "      <td>86</td>\n",
       "    </tr>\n",
       "    <tr>\n",
       "      <th>477</th>\n",
       "      <td>122</td>\n",
       "      <td>143</td>\n",
       "      <td>105</td>\n",
       "      <td>93</td>\n",
       "      <td>108</td>\n",
       "      <td>120</td>\n",
       "    </tr>\n",
       "    <tr>\n",
       "      <th>478</th>\n",
       "      <td>125</td>\n",
       "      <td>139</td>\n",
       "      <td>117</td>\n",
       "      <td>119</td>\n",
       "      <td>119</td>\n",
       "      <td>124</td>\n",
       "    </tr>\n",
       "    <tr>\n",
       "      <th>479</th>\n",
       "      <td>76</td>\n",
       "      <td>79</td>\n",
       "      <td>75</td>\n",
       "      <td>92</td>\n",
       "      <td>84</td>\n",
       "      <td>83</td>\n",
       "    </tr>\n",
       "  </tbody>\n",
       "</table>\n",
       "<p>480 rows × 6 columns</p>\n",
       "</div>"
      ],
      "text/plain": [
       "     paragraph  rephrase  Grammerly  chatgpt  Wordtune  Quillbot\n",
       "0          170       187        168      154       164       169\n",
       "1          173       195        162      169       156       182\n",
       "2          168       176        169      170       147       159\n",
       "3          177       190        173      166       160       166\n",
       "4          165       173        164      154       139       164\n",
       "..         ...       ...        ...      ...       ...       ...\n",
       "475         99       108         98      111        91        98\n",
       "476         91        96         85      105        73        86\n",
       "477        122       143        105       93       108       120\n",
       "478        125       139        117      119       119       124\n",
       "479         76        79         75       92        84        83\n",
       "\n",
       "[480 rows x 6 columns]"
      ]
     },
     "execution_count": 9,
     "metadata": {},
     "output_type": "execute_result"
    }
   ],
   "source": [
    "df_numwords"
   ]
  },
  {
   "cell_type": "code",
   "execution_count": null,
   "id": "78e108ce",
   "metadata": {},
   "outputs": [],
   "source": []
  }
 ],
 "metadata": {
  "kernelspec": {
   "display_name": "Python 3 (ipykernel)",
   "language": "python",
   "name": "python3"
  },
  "language_info": {
   "codemirror_mode": {
    "name": "ipython",
    "version": 3
   },
   "file_extension": ".py",
   "mimetype": "text/x-python",
   "name": "python",
   "nbconvert_exporter": "python",
   "pygments_lexer": "ipython3",
   "version": "3.8.3"
  },
  "toc": {
   "base_numbering": 1,
   "nav_menu": {},
   "number_sections": true,
   "sideBar": true,
   "skip_h1_title": false,
   "title_cell": "Table of Contents",
   "title_sidebar": "Contents",
   "toc_cell": false,
   "toc_position": {},
   "toc_section_display": true,
   "toc_window_display": false
  }
 },
 "nbformat": 4,
 "nbformat_minor": 5
}
