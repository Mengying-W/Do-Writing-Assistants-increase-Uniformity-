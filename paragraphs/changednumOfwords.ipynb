{
 "cells": [
  {
   "cell_type": "code",
   "execution_count": 1,
   "id": "4a00ea88",
   "metadata": {
    "ExecuteTime": {
     "end_time": "2023-05-17T20:08:45.794988Z",
     "start_time": "2023-05-17T20:08:44.509942Z"
    }
   },
   "outputs": [],
   "source": [
    "import numpy as np\n",
    "import pandas as pd\n",
    "from sklearn import preprocessing"
   ]
  },
  {
   "cell_type": "code",
   "execution_count": 2,
   "id": "eba4c582",
   "metadata": {
    "ExecuteTime": {
     "end_time": "2023-05-17T20:08:55.020490Z",
     "start_time": "2023-05-17T20:08:55.011560Z"
    }
   },
   "outputs": [],
   "source": [
    "df = pd.read_csv('/Users/carina/Downloads/courses/final thesis/precessed data/ex1/numOfwords.csv')\n",
    "df = df.drop(df.columns[0],axis=1)"
   ]
  },
  {
   "cell_type": "code",
   "execution_count": 6,
   "id": "df17b9d3",
   "metadata": {
    "ExecuteTime": {
     "end_time": "2023-05-17T20:18:18.689141Z",
     "start_time": "2023-05-17T20:18:18.677271Z"
    }
   },
   "outputs": [],
   "source": [
    "\n",
    "heads = df.columns.values.tolist() \n",
    "paragraph = df['paragraph'].tolist()\n",
    "paragraph = np.array(paragraph)\n",
    "\n",
    "df_amounts = pd.DataFrame()\n",
    "\n",
    "for index in heads:\n",
    "    amounts = []\n",
    "    number = df[index].tolist()\n",
    "    number = np.array(number)\n",
    "    for i,j in zip(paragraph,number):\n",
    "        amount = j- i\n",
    "        amounts.append(amount)\n",
    "    #amounts = (amounts - np.mean(amounts)) / np.std(amounts)\n",
    "    df_amounts[index] = amounts\n",
    "df_amounts = df_amounts.drop(df_amounts.columns[0],axis=1)"
   ]
  },
  {
   "cell_type": "code",
   "execution_count": 8,
   "id": "0bd6319a",
   "metadata": {
    "ExecuteTime": {
     "end_time": "2023-05-17T20:18:27.099690Z",
     "start_time": "2023-05-17T20:18:27.093608Z"
    }
   },
   "outputs": [],
   "source": [
    "df_amounts.to_csv('/Users/carina/Downloads/courses/final thesis/precessed data/ex1/changednumOfwords_unmorlized.csv')"
   ]
  },
  {
   "cell_type": "code",
   "execution_count": 7,
   "id": "20679bb6",
   "metadata": {
    "ExecuteTime": {
     "end_time": "2023-05-17T20:18:21.415640Z",
     "start_time": "2023-05-17T20:18:21.407028Z"
    }
   },
   "outputs": [
    {
     "data": {
      "text/html": [
       "<div>\n",
       "<style scoped>\n",
       "    .dataframe tbody tr th:only-of-type {\n",
       "        vertical-align: middle;\n",
       "    }\n",
       "\n",
       "    .dataframe tbody tr th {\n",
       "        vertical-align: top;\n",
       "    }\n",
       "\n",
       "    .dataframe thead th {\n",
       "        text-align: right;\n",
       "    }\n",
       "</style>\n",
       "<table border=\"1\" class=\"dataframe\">\n",
       "  <thead>\n",
       "    <tr style=\"text-align: right;\">\n",
       "      <th></th>\n",
       "      <th>rephrase</th>\n",
       "      <th>Grammarly</th>\n",
       "      <th>chatgpt</th>\n",
       "      <th>Wordtune</th>\n",
       "      <th>Quillbot</th>\n",
       "    </tr>\n",
       "  </thead>\n",
       "  <tbody>\n",
       "    <tr>\n",
       "      <th>0</th>\n",
       "      <td>17</td>\n",
       "      <td>-2</td>\n",
       "      <td>-16</td>\n",
       "      <td>-6</td>\n",
       "      <td>-1</td>\n",
       "    </tr>\n",
       "    <tr>\n",
       "      <th>1</th>\n",
       "      <td>22</td>\n",
       "      <td>-11</td>\n",
       "      <td>-4</td>\n",
       "      <td>-17</td>\n",
       "      <td>9</td>\n",
       "    </tr>\n",
       "    <tr>\n",
       "      <th>2</th>\n",
       "      <td>8</td>\n",
       "      <td>1</td>\n",
       "      <td>2</td>\n",
       "      <td>-21</td>\n",
       "      <td>-9</td>\n",
       "    </tr>\n",
       "    <tr>\n",
       "      <th>3</th>\n",
       "      <td>13</td>\n",
       "      <td>-4</td>\n",
       "      <td>-11</td>\n",
       "      <td>-17</td>\n",
       "      <td>-11</td>\n",
       "    </tr>\n",
       "    <tr>\n",
       "      <th>4</th>\n",
       "      <td>8</td>\n",
       "      <td>-1</td>\n",
       "      <td>-11</td>\n",
       "      <td>-26</td>\n",
       "      <td>-1</td>\n",
       "    </tr>\n",
       "    <tr>\n",
       "      <th>...</th>\n",
       "      <td>...</td>\n",
       "      <td>...</td>\n",
       "      <td>...</td>\n",
       "      <td>...</td>\n",
       "      <td>...</td>\n",
       "    </tr>\n",
       "    <tr>\n",
       "      <th>475</th>\n",
       "      <td>9</td>\n",
       "      <td>-1</td>\n",
       "      <td>12</td>\n",
       "      <td>-8</td>\n",
       "      <td>-1</td>\n",
       "    </tr>\n",
       "    <tr>\n",
       "      <th>476</th>\n",
       "      <td>5</td>\n",
       "      <td>-6</td>\n",
       "      <td>14</td>\n",
       "      <td>-18</td>\n",
       "      <td>-5</td>\n",
       "    </tr>\n",
       "    <tr>\n",
       "      <th>477</th>\n",
       "      <td>21</td>\n",
       "      <td>-17</td>\n",
       "      <td>-29</td>\n",
       "      <td>-14</td>\n",
       "      <td>-2</td>\n",
       "    </tr>\n",
       "    <tr>\n",
       "      <th>478</th>\n",
       "      <td>14</td>\n",
       "      <td>-8</td>\n",
       "      <td>-6</td>\n",
       "      <td>-6</td>\n",
       "      <td>-1</td>\n",
       "    </tr>\n",
       "    <tr>\n",
       "      <th>479</th>\n",
       "      <td>3</td>\n",
       "      <td>-1</td>\n",
       "      <td>16</td>\n",
       "      <td>8</td>\n",
       "      <td>7</td>\n",
       "    </tr>\n",
       "  </tbody>\n",
       "</table>\n",
       "<p>480 rows × 5 columns</p>\n",
       "</div>"
      ],
      "text/plain": [
       "     rephrase  Grammarly  chatgpt  Wordtune  Quillbot\n",
       "0          17         -2      -16        -6        -1\n",
       "1          22        -11       -4       -17         9\n",
       "2           8          1        2       -21        -9\n",
       "3          13         -4      -11       -17       -11\n",
       "4           8         -1      -11       -26        -1\n",
       "..        ...        ...      ...       ...       ...\n",
       "475         9         -1       12        -8        -1\n",
       "476         5         -6       14       -18        -5\n",
       "477        21        -17      -29       -14        -2\n",
       "478        14         -8       -6        -6        -1\n",
       "479         3         -1       16         8         7\n",
       "\n",
       "[480 rows x 5 columns]"
      ]
     },
     "execution_count": 7,
     "metadata": {},
     "output_type": "execute_result"
    }
   ],
   "source": [
    "df_amounts"
   ]
  },
  {
   "cell_type": "code",
   "execution_count": null,
   "id": "40cc35f5",
   "metadata": {},
   "outputs": [],
   "source": []
  }
 ],
 "metadata": {
  "kernelspec": {
   "display_name": "Python 3 (ipykernel)",
   "language": "python",
   "name": "python3"
  },
  "language_info": {
   "codemirror_mode": {
    "name": "ipython",
    "version": 3
   },
   "file_extension": ".py",
   "mimetype": "text/x-python",
   "name": "python",
   "nbconvert_exporter": "python",
   "pygments_lexer": "ipython3",
   "version": "3.8.3"
  },
  "toc": {
   "base_numbering": 1,
   "nav_menu": {},
   "number_sections": true,
   "sideBar": true,
   "skip_h1_title": false,
   "title_cell": "Table of Contents",
   "title_sidebar": "Contents",
   "toc_cell": false,
   "toc_position": {},
   "toc_section_display": true,
   "toc_window_display": false
  }
 },
 "nbformat": 4,
 "nbformat_minor": 5
}
